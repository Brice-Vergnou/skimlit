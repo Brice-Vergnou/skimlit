{
  "nbformat": 4,
  "nbformat_minor": 0,
  "metadata": {
    "accelerator": "GPU",
    "colab": {
      "name": "skimlit.ipynb",
      "provenance": [],
      "collapsed_sections": [
        "fjfbMVxscjHr",
        "kfNGfKGtLm2O",
        "qwwxQSWPOb6C",
        "tTX6XCtySOnX"
      ]
    },
    "kernelspec": {
      "display_name": "Python 3",
      "name": "python3"
    },
    "language_info": {
      "name": "python"
    }
  },
  "cells": [
    {
      "cell_type": "markdown",
      "metadata": {
        "id": "JS4mFAPyxHS-"
      },
      "source": [
        "# SkimLit\n",
        "\n",
        "The purpose of this notebook is to build an NLP model to make medical abstracts (and maybe other abstracts ?) easier to read.\n",
        "\n",
        "We're going to replicate this paper : https://arxiv.org/abs/1710.06071\n",
        "\n",
        "The model architecture they used to achieve their best results is here: https://arxiv.org/abs/1612.05251"
      ]
    },
    {
      "cell_type": "markdown",
      "metadata": {
        "id": "tlglIFQj7RF9"
      },
      "source": [
        "### Check access to a GPU"
      ]
    },
    {
      "cell_type": "code",
      "metadata": {
        "colab": {
          "base_uri": "https://localhost:8080/"
        },
        "id": "zfuLlNZ47cm4",
        "outputId": "458410f4-c140-411b-b4e5-8770c0193c5a"
      },
      "source": [
        "!nvidia-smi -L"
      ],
      "execution_count": null,
      "outputs": [
        {
          "output_type": "stream",
          "name": "stdout",
          "text": [
            "GPU 0: Tesla K80 (UUID: GPU-2e681fd0-726c-06e4-da29-97ce9066c168)\n"
          ]
        }
      ]
    },
    {
      "cell_type": "markdown",
      "metadata": {
        "id": "3phIw2YScUqt"
      },
      "source": [
        "## Data"
      ]
    },
    {
      "cell_type": "markdown",
      "metadata": {
        "id": "PQ1U72Do7epd"
      },
      "source": [
        "### Get data"
      ]
    },
    {
      "cell_type": "code",
      "metadata": {
        "colab": {
          "base_uri": "https://localhost:8080/"
        },
        "id": "mB1TegQi78KG",
        "outputId": "4f68f2dc-16d4-4093-e820-0bf83c8736c1"
      },
      "source": [
        "!git clone https://github.com/Franck-Dernoncourt/pubmed-rct"
      ],
      "execution_count": null,
      "outputs": [
        {
          "output_type": "stream",
          "name": "stdout",
          "text": [
            "Cloning into 'pubmed-rct'...\n",
            "remote: Enumerating objects: 33, done.\u001b[K\n",
            "remote: Counting objects: 100% (3/3), done.\u001b[K\n",
            "remote: Compressing objects: 100% (3/3), done.\u001b[K\n",
            "remote: Total 33 (delta 0), reused 0 (delta 0), pack-reused 30\u001b[K\n",
            "Unpacking objects: 100% (33/33), done.\n"
          ]
        }
      ]
    },
    {
      "cell_type": "code",
      "metadata": {
        "colab": {
          "base_uri": "https://localhost:8080/"
        },
        "id": "yiFCBrpgV04U",
        "outputId": "2889142a-5446-4238-dcb7-eeab41e14e9f"
      },
      "source": [
        "!unzip /content/pubmed-rct/PubMed_200k_RCT_numbers_replaced_with_at_sign/train.zip -d /content/pubmed-rct/PubMed_200k_RCT_numbers_replaced_with_at_sign\n",
        "!rm /content/pubmed-rct/PubMed_200k_RCT_numbers_replaced_with_at_sign/train.zip \n",
        "!rm -rf /content/pubmed-rct/PubMed_200k_RCT_numbers_replaced_with_at_sign/.ipynb_checkpoints\n",
        "!ls /content/pubmed-rct/PubMed_200k_RCT_numbers_replaced_with_at_sign/"
      ],
      "execution_count": null,
      "outputs": [
        {
          "output_type": "stream",
          "name": "stdout",
          "text": [
            "Archive:  /content/pubmed-rct/PubMed_200k_RCT_numbers_replaced_with_at_sign/train.zip\n",
            "  inflating: /content/pubmed-rct/PubMed_200k_RCT_numbers_replaced_with_at_sign/train.txt  \n",
            "dev.txt  test.txt  train.txt\n"
          ]
        }
      ]
    },
    {
      "cell_type": "code",
      "metadata": {
        "colab": {
          "base_uri": "https://localhost:8080/"
        },
        "id": "Y2Radnrn8HKa",
        "outputId": "908a1509-23bf-4a94-cbd0-424617ca1b47"
      },
      "source": [
        "import os\n",
        "\n",
        "data_dir = \"/content/pubmed-rct/PubMed_20k_RCT_numbers_replaced_with_at_sign/\"\n",
        "filenames = [data_dir + filename for filename in os.listdir(data_dir)]\n",
        "filenames"
      ],
      "execution_count": null,
      "outputs": [
        {
          "output_type": "execute_result",
          "data": {
            "text/plain": [
              "['/content/pubmed-rct/PubMed_20k_RCT_numbers_replaced_with_at_sign/test.txt',\n",
              " '/content/pubmed-rct/PubMed_20k_RCT_numbers_replaced_with_at_sign/dev.txt',\n",
              " '/content/pubmed-rct/PubMed_20k_RCT_numbers_replaced_with_at_sign/train.txt']"
            ]
          },
          "metadata": {},
          "execution_count": 4
        }
      ]
    },
    {
      "cell_type": "markdown",
      "metadata": {
        "id": "nbqJRSvwBbEE"
      },
      "source": [
        "### Preprocess data\n",
        "\n",
        "The files are formatted in this way :\n",
        "\n",
        "<br>\n",
        "\n",
        "**[TYPE OF SENTENCE] &nbsp;&nbsp;&nbsp;&nbsp;&nbsp;&nbsp;&nbsp;&nbsp; [SENTENCE]**\n",
        "\n",
        "<br>\n",
        "\n",
        "We have to preprocess it in order to be able to work with it."
      ]
    },
    {
      "cell_type": "code",
      "metadata": {
        "colab": {
          "base_uri": "https://localhost:8080/"
        },
        "id": "DeytbjEZDGNi",
        "outputId": "ef2d4365-3212-47f2-b2f6-14ab302bbedb"
      },
      "source": [
        "with open(filenames[0],\"r\") as f:\n",
        "  lines = f.readlines()[:15]\n",
        "  for line in lines:\n",
        "    print(repr(line)) # helps us to see encoded stuff like \\n"
      ],
      "execution_count": null,
      "outputs": [
        {
          "output_type": "stream",
          "name": "stdout",
          "text": [
            "'###24845963\\n'\n",
            "'BACKGROUND\\tThis study analyzed liver function abnormalities in heart failure patients admitted with severe acute decompensated heart failure ( ADHF ) .\\n'\n",
            "'RESULTS\\tA post hoc analysis was conducted with the use of data from the Evaluation Study of Congestive Heart Failure and Pulmonary Artery Catheterization Effectiveness ( ESCAPE ) .\\n'\n",
            "'RESULTS\\tLiver function tests ( LFTs ) were measured at @ time points from baseline , at discharge , and up to @ months follow-up .\\n'\n",
            "'RESULTS\\tSurvival analyses were used to assess the association between admission Model of End-Stage Liver Disease Excluding International Normalized Ratio ( MELD-XI ) scores and patient outcome.There was a high prevalence of abnormal baseline ( admission ) LFTs ( albumin @ % , aspartate transaminase @ % , alanine transaminase @ % , and total bilirubin @ % ) .\\n'\n",
            "\"RESULTS\\tThe percentage of patients with abnormal LFTs decreased significantly from baseline to @-months ' follow-up .\\n\"\n",
            "'RESULTS\\tWhen mean hemodynamic profiles were compared in patients with abnormal versus normal LFTs , elevated total bilirubin was associated with a significantly lower cardiac index ( @ vs @ ; P < @ ) and higher central venous pressure ( @ vs @ ; P = @ ) .\\n'\n",
            "'RESULTS\\tMultivariable analyses revealed that patients with elevated MELD-XI scores ( @ ) had a @-fold ( hazard ratio@ @ , @ % confidence interval @-@ @ ) increased risk of death , rehospitalization , or transplantation after adjusting for baseline LFTs , age , sex , race , body mass index , diabetes , and systolic blood pressure .\\n'\n",
            "'CONCLUSIONS\\tAbnormal LFTs are common in the ADHF population and are a dynamic marker of an impaired hemodynamic state .\\n'\n",
            "'CONCLUSIONS\\tElevated MELD-XI scores are associated with poor outcomes among patients admitted with ADHF .\\n'\n",
            "'\\n'\n",
            "'###24469619\\n'\n",
            "'BACKGROUND\\tMinimally invasive endovascular aneurysm repair ( EVAR ) could be a surgical technique that improves outcome of patients with ruptured abdominal aortic aneurysm ( rAAA ) .\\n'\n",
            "'BACKGROUND\\tThe aim of this study was to analyse the cost-effectiveness and cost-utility of EVAR compared with standard open repair ( OR ) in the treatment of rAAA , with costs per @-day and @-month survivor as outcome parameters .\\n'\n",
            "'METHODS\\tResource use was determined from the Amsterdam Acute Aneurysm ( AJAX ) trial , a multicentre randomized trial comparing EVAR with OR in patients with rAAA .\\n'\n"
          ]
        }
      ]
    },
    {
      "cell_type": "markdown",
      "metadata": {
        "id": "IZNNkSS6Dvu3"
      },
      "source": [
        "<br>\n",
        "\n",
        "We can see there is a **\\t** in each sentence separating the type of sentence from the sentence. We could split the sentence with this character to get two lists (sentences and labels, or X and y) and ignore any line without a **\\t**.\n",
        "\n",
        "<br>"
      ]
    },
    {
      "cell_type": "code",
      "metadata": {
        "id": "6B_7NHWdCKn9"
      },
      "source": [
        "import pandas as pd\n",
        "\n",
        "def preprocess(filename):\n",
        "  with open(filename,\"r\") as f:\n",
        "    input_lines = f.readlines()\n",
        "  abstract_lines = \"\" # create an empty abstract\n",
        "  abstract_samples = [] # create an empty list of abstracts\n",
        "  \n",
        "  # Loop through each line in target file\n",
        "  for line in input_lines:\n",
        "    if line.startswith(\"###\"): # check to see if line is an ID line\n",
        "      abstract_id = line\n",
        "      abstract_lines = \"\" # reset abstract string\n",
        "    elif line.isspace(): # check to see if line is a new line\n",
        "      abstract_line_split = abstract_lines.splitlines() # split abstract into separate lines\n",
        "\n",
        "      # Iterate through each line in abstract and count them at the same time\n",
        "      for abstract_line_number, abstract_line in enumerate(abstract_line_split):\n",
        "        line_data = {} # create empty dict to store data from line\n",
        "        target_text_split = abstract_line.split(\"\\t\") # split target label from text\n",
        "        line_data[\"target\"] = target_text_split[0] # get target label\n",
        "        line_data[\"text\"] = target_text_split[1].lower() # get target text and lower it\n",
        "        line_data[\"line\"] = abstract_line_number # what number line does the line appear in the abstract?\n",
        "        line_data[\"total_lines\"] = len(abstract_line_split) - 1 # how many total lines are in the abstract? (start from 0)\n",
        "        abstract_samples.append(line_data) # add line data to abstract samples list\n",
        "    \n",
        "    else: # if the above conditions aren't fulfilled, the line contains a labelled sentence\n",
        "      abstract_lines += line\n",
        "  \n",
        "  return abstract_samples"
      ],
      "execution_count": null,
      "outputs": []
    },
    {
      "cell_type": "code",
      "metadata": {
        "colab": {
          "base_uri": "https://localhost:8080/",
          "height": 359
        },
        "id": "E_GAnlXVFQu2",
        "outputId": "6acec429-808a-4cc7-ed1f-39cdd9d22100"
      },
      "source": [
        "train_data = pd.DataFrame(preprocess(filenames[2]))\n",
        "test_data = pd.DataFrame(preprocess(filenames[0]))\n",
        "val_data = pd.DataFrame(preprocess(filenames[1]))\n",
        "train_data[:10]"
      ],
      "execution_count": null,
      "outputs": [
        {
          "output_type": "execute_result",
          "data": {
            "text/html": [
              "<div>\n",
              "<style scoped>\n",
              "    .dataframe tbody tr th:only-of-type {\n",
              "        vertical-align: middle;\n",
              "    }\n",
              "\n",
              "    .dataframe tbody tr th {\n",
              "        vertical-align: top;\n",
              "    }\n",
              "\n",
              "    .dataframe thead th {\n",
              "        text-align: right;\n",
              "    }\n",
              "</style>\n",
              "<table border=\"1\" class=\"dataframe\">\n",
              "  <thead>\n",
              "    <tr style=\"text-align: right;\">\n",
              "      <th></th>\n",
              "      <th>target</th>\n",
              "      <th>text</th>\n",
              "      <th>line</th>\n",
              "      <th>total_lines</th>\n",
              "    </tr>\n",
              "  </thead>\n",
              "  <tbody>\n",
              "    <tr>\n",
              "      <th>0</th>\n",
              "      <td>OBJECTIVE</td>\n",
              "      <td>to investigate the efficacy of @ weeks of dail...</td>\n",
              "      <td>0</td>\n",
              "      <td>11</td>\n",
              "    </tr>\n",
              "    <tr>\n",
              "      <th>1</th>\n",
              "      <td>METHODS</td>\n",
              "      <td>a total of @ patients with primary knee oa wer...</td>\n",
              "      <td>1</td>\n",
              "      <td>11</td>\n",
              "    </tr>\n",
              "    <tr>\n",
              "      <th>2</th>\n",
              "      <td>METHODS</td>\n",
              "      <td>outcome measures included pain reduction and i...</td>\n",
              "      <td>2</td>\n",
              "      <td>11</td>\n",
              "    </tr>\n",
              "    <tr>\n",
              "      <th>3</th>\n",
              "      <td>METHODS</td>\n",
              "      <td>pain was assessed using the visual analog pain...</td>\n",
              "      <td>3</td>\n",
              "      <td>11</td>\n",
              "    </tr>\n",
              "    <tr>\n",
              "      <th>4</th>\n",
              "      <td>METHODS</td>\n",
              "      <td>secondary outcome measures included the wester...</td>\n",
              "      <td>4</td>\n",
              "      <td>11</td>\n",
              "    </tr>\n",
              "    <tr>\n",
              "      <th>5</th>\n",
              "      <td>METHODS</td>\n",
              "      <td>serum levels of interleukin @ ( il-@ ) , il-@ ...</td>\n",
              "      <td>5</td>\n",
              "      <td>11</td>\n",
              "    </tr>\n",
              "    <tr>\n",
              "      <th>6</th>\n",
              "      <td>RESULTS</td>\n",
              "      <td>there was a clinically relevant reduction in t...</td>\n",
              "      <td>6</td>\n",
              "      <td>11</td>\n",
              "    </tr>\n",
              "    <tr>\n",
              "      <th>7</th>\n",
              "      <td>RESULTS</td>\n",
              "      <td>the mean difference between treatment arms ( @...</td>\n",
              "      <td>7</td>\n",
              "      <td>11</td>\n",
              "    </tr>\n",
              "    <tr>\n",
              "      <th>8</th>\n",
              "      <td>RESULTS</td>\n",
              "      <td>further , there was a clinically relevant redu...</td>\n",
              "      <td>8</td>\n",
              "      <td>11</td>\n",
              "    </tr>\n",
              "    <tr>\n",
              "      <th>9</th>\n",
              "      <td>RESULTS</td>\n",
              "      <td>these differences remained significant at @ we...</td>\n",
              "      <td>9</td>\n",
              "      <td>11</td>\n",
              "    </tr>\n",
              "  </tbody>\n",
              "</table>\n",
              "</div>"
            ],
            "text/plain": [
              "      target  ... total_lines\n",
              "0  OBJECTIVE  ...          11\n",
              "1    METHODS  ...          11\n",
              "2    METHODS  ...          11\n",
              "3    METHODS  ...          11\n",
              "4    METHODS  ...          11\n",
              "5    METHODS  ...          11\n",
              "6    RESULTS  ...          11\n",
              "7    RESULTS  ...          11\n",
              "8    RESULTS  ...          11\n",
              "9    RESULTS  ...          11\n",
              "\n",
              "[10 rows x 4 columns]"
            ]
          },
          "metadata": {},
          "execution_count": 7
        }
      ]
    },
    {
      "cell_type": "markdown",
      "metadata": {
        "id": "olXjgutQcGab"
      },
      "source": [
        "### EDA"
      ]
    },
    {
      "cell_type": "code",
      "metadata": {
        "colab": {
          "base_uri": "https://localhost:8080/"
        },
        "id": "8kDwTW3qFYat",
        "outputId": "f8585909-7ec6-4d32-e503-57a8ad9bdeb0"
      },
      "source": [
        "len(test_data), len(train_data), len(val_data)"
      ],
      "execution_count": null,
      "outputs": [
        {
          "output_type": "execute_result",
          "data": {
            "text/plain": [
              "(30135, 180040, 30212)"
            ]
          },
          "metadata": {},
          "execution_count": 8
        }
      ]
    },
    {
      "cell_type": "code",
      "metadata": {
        "colab": {
          "base_uri": "https://localhost:8080/",
          "height": 612
        },
        "id": "o574yCCzYhX4",
        "outputId": "8ce7ba8d-5937-4c78-d663-6dbb28efb523"
      },
      "source": [
        "# Distribution of types depending on sentence number\n",
        "import seaborn as sns\n",
        "import matplotlib.pyplot as plt\n",
        "\n",
        "sns.set(\n",
        "    style=\"white\", \n",
        "    palette=\"muted\", \n",
        "    color_codes=True\n",
        ")\n",
        "plt.figure(figsize=(15,10))\n",
        "sns.countplot(\n",
        "          data=train_data,\n",
        "          x=\"line\",\n",
        "          hue=\"target\",\n",
        "          palette= \"GnBu\"\n",
        "          ,\n",
        "          order=train_data[\"line\"].value_counts().iloc[:15].index);"
      ],
      "execution_count": null,
      "outputs": [
        {
          "output_type": "display_data",
          "data": {
            "image/png": "[encoded data removed]",
            "text/plain": [
              "<Figure size 1080x720 with 1 Axes>"
            ]
          },
          "metadata": {}
        }
      ]
    },
    {
      "cell_type": "code",
      "metadata": {
        "colab": {
          "base_uri": "https://localhost:8080/",
          "height": 268
        },
        "id": "qSAP1VcCav0v",
        "outputId": "2b327611-86b8-4bec-8cfe-cc581542338a"
      },
      "source": [
        "# Distribution of sentence number\n",
        "\n",
        "plt.figure(figsize=(20,4))\n",
        "train_data[\"line\"].plot.hist(bins=30);"
      ],
      "execution_count": null,
      "outputs": [
        {
          "output_type": "display_data",
          "data": {
            "image/png": "[encoded data removed]",
            "text/plain": [
              "<Figure size 1440x288 with 1 Axes>"
            ]
          },
          "metadata": {}
        }
      ]
    },
    {
      "cell_type": "markdown",
      "metadata": {
        "id": "fjfbMVxscjHr"
      },
      "source": [
        "### Turn labels into numeric form"
      ]
    },
    {
      "cell_type": "code",
      "metadata": {
        "id": "UCUTgpS0fUiv"
      },
      "source": [
        "### One Hot Encoded\n",
        "from sklearn.preprocessing import OneHotEncoder\n",
        "\n",
        "oh = OneHotEncoder(sparse=False)\n",
        "train_labels_oh = oh.fit_transform(train_data[\"target\"].to_numpy().reshape(-1, 1))\n",
        "test_labels_oh = oh.transform(test_data[\"target\"].to_numpy().reshape(-1, 1))\n",
        "val_labels_oh = oh.transform(val_data[\"target\"].to_numpy().reshape(-1, 1))"
      ],
      "execution_count": null,
      "outputs": []
    },
    {
      "cell_type": "code",
      "metadata": {
        "colab": {
          "base_uri": "https://localhost:8080/"
        },
        "id": "sfvQukP0fb_7",
        "outputId": "c0944217-6eb3-46a1-d082-5f6339d63c01"
      },
      "source": [
        "pd.DataFrame(train_labels_oh)"
      ],
      "execution_count": null,
      "outputs": [
        {
          "output_type": "execute_result",
          "data": {
            "text/html": [
              "<div>\n",
              "<style scoped>\n",
              "    .dataframe tbody tr th:only-of-type {\n",
              "        vertical-align: middle;\n",
              "    }\n",
              "\n",
              "    .dataframe tbody tr th {\n",
              "        vertical-align: top;\n",
              "    }\n",
              "\n",
              "    .dataframe thead th {\n",
              "        text-align: right;\n",
              "    }\n",
              "</style>\n",
              "<table border=\"1\" class=\"dataframe\">\n",
              "  <thead>\n",
              "    <tr style=\"text-align: right;\">\n",
              "      <th></th>\n",
              "      <th>0</th>\n",
              "      <th>1</th>\n",
              "      <th>2</th>\n",
              "      <th>3</th>\n",
              "      <th>4</th>\n",
              "    </tr>\n",
              "  </thead>\n",
              "  <tbody>\n",
              "    <tr>\n",
              "      <th>0</th>\n",
              "      <td>0.0</td>\n",
              "      <td>0.0</td>\n",
              "      <td>0.0</td>\n",
              "      <td>1.0</td>\n",
              "      <td>0.0</td>\n",
              "    </tr>\n",
              "    <tr>\n",
              "      <th>1</th>\n",
              "      <td>0.0</td>\n",
              "      <td>0.0</td>\n",
              "      <td>1.0</td>\n",
              "      <td>0.0</td>\n",
              "      <td>0.0</td>\n",
              "    </tr>\n",
              "    <tr>\n",
              "      <th>2</th>\n",
              "      <td>0.0</td>\n",
              "      <td>0.0</td>\n",
              "      <td>1.0</td>\n",
              "      <td>0.0</td>\n",
              "      <td>0.0</td>\n",
              "    </tr>\n",
              "    <tr>\n",
              "      <th>3</th>\n",
              "      <td>0.0</td>\n",
              "      <td>0.0</td>\n",
              "      <td>1.0</td>\n",
              "      <td>0.0</td>\n",
              "      <td>0.0</td>\n",
              "    </tr>\n",
              "    <tr>\n",
              "      <th>4</th>\n",
              "      <td>0.0</td>\n",
              "      <td>0.0</td>\n",
              "      <td>1.0</td>\n",
              "      <td>0.0</td>\n",
              "      <td>0.0</td>\n",
              "    </tr>\n",
              "    <tr>\n",
              "      <th>...</th>\n",
              "      <td>...</td>\n",
              "      <td>...</td>\n",
              "      <td>...</td>\n",
              "      <td>...</td>\n",
              "      <td>...</td>\n",
              "    </tr>\n",
              "    <tr>\n",
              "      <th>180035</th>\n",
              "      <td>0.0</td>\n",
              "      <td>0.0</td>\n",
              "      <td>0.0</td>\n",
              "      <td>0.0</td>\n",
              "      <td>1.0</td>\n",
              "    </tr>\n",
              "    <tr>\n",
              "      <th>180036</th>\n",
              "      <td>0.0</td>\n",
              "      <td>0.0</td>\n",
              "      <td>0.0</td>\n",
              "      <td>0.0</td>\n",
              "      <td>1.0</td>\n",
              "    </tr>\n",
              "    <tr>\n",
              "      <th>180037</th>\n",
              "      <td>0.0</td>\n",
              "      <td>0.0</td>\n",
              "      <td>0.0</td>\n",
              "      <td>0.0</td>\n",
              "      <td>1.0</td>\n",
              "    </tr>\n",
              "    <tr>\n",
              "      <th>180038</th>\n",
              "      <td>0.0</td>\n",
              "      <td>1.0</td>\n",
              "      <td>0.0</td>\n",
              "      <td>0.0</td>\n",
              "      <td>0.0</td>\n",
              "    </tr>\n",
              "    <tr>\n",
              "      <th>180039</th>\n",
              "      <td>0.0</td>\n",
              "      <td>1.0</td>\n",
              "      <td>0.0</td>\n",
              "      <td>0.0</td>\n",
              "      <td>0.0</td>\n",
              "    </tr>\n",
              "  </tbody>\n",
              "</table>\n",
              "<p>180040 rows × 5 columns</p>\n",
              "</div>"
            ],
            "text/plain": [
              "          0    1    2    3    4\n",
              "0       0.0  0.0  0.0  1.0  0.0\n",
              "1       0.0  0.0  1.0  0.0  0.0\n",
              "2       0.0  0.0  1.0  0.0  0.0\n",
              "3       0.0  0.0  1.0  0.0  0.0\n",
              "4       0.0  0.0  1.0  0.0  0.0\n",
              "...     ...  ...  ...  ...  ...\n",
              "180035  0.0  0.0  0.0  0.0  1.0\n",
              "180036  0.0  0.0  0.0  0.0  1.0\n",
              "180037  0.0  0.0  0.0  0.0  1.0\n",
              "180038  0.0  1.0  0.0  0.0  0.0\n",
              "180039  0.0  1.0  0.0  0.0  0.0\n",
              "\n",
              "[180040 rows x 5 columns]"
            ]
          },
          "metadata": {},
          "execution_count": 12
        }
      ]
    },
    {
      "cell_type": "code",
      "metadata": {
        "id": "AdceQgmvgVy1"
      },
      "source": [
        "### Label encode\n",
        "from sklearn.preprocessing import LabelEncoder\n",
        "le = LabelEncoder()\n",
        "train_labels_le = le.fit_transform(train_data[\"target\"])\n",
        "test_labels_le = le.transform(test_data[\"target\"])\n",
        "val_labels_le = le.transform(val_data[\"target\"])"
      ],
      "execution_count": null,
      "outputs": []
    },
    {
      "cell_type": "code",
      "metadata": {
        "colab": {
          "base_uri": "https://localhost:8080/"
        },
        "id": "ZDHmwxqGhF4V",
        "outputId": "2ddb0646-2e73-47ab-8c16-233527ac69dc"
      },
      "source": [
        "pd.DataFrame(train_labels_le)"
      ],
      "execution_count": null,
      "outputs": [
        {
          "output_type": "execute_result",
          "data": {
            "text/html": [
              "<div>\n",
              "<style scoped>\n",
              "    .dataframe tbody tr th:only-of-type {\n",
              "        vertical-align: middle;\n",
              "    }\n",
              "\n",
              "    .dataframe tbody tr th {\n",
              "        vertical-align: top;\n",
              "    }\n",
              "\n",
              "    .dataframe thead th {\n",
              "        text-align: right;\n",
              "    }\n",
              "</style>\n",
              "<table border=\"1\" class=\"dataframe\">\n",
              "  <thead>\n",
              "    <tr style=\"text-align: right;\">\n",
              "      <th></th>\n",
              "      <th>0</th>\n",
              "    </tr>\n",
              "  </thead>\n",
              "  <tbody>\n",
              "    <tr>\n",
              "      <th>0</th>\n",
              "      <td>3</td>\n",
              "    </tr>\n",
              "    <tr>\n",
              "      <th>1</th>\n",
              "      <td>2</td>\n",
              "    </tr>\n",
              "    <tr>\n",
              "      <th>2</th>\n",
              "      <td>2</td>\n",
              "    </tr>\n",
              "    <tr>\n",
              "      <th>3</th>\n",
              "      <td>2</td>\n",
              "    </tr>\n",
              "    <tr>\n",
              "      <th>4</th>\n",
              "      <td>2</td>\n",
              "    </tr>\n",
              "    <tr>\n",
              "      <th>...</th>\n",
              "      <td>...</td>\n",
              "    </tr>\n",
              "    <tr>\n",
              "      <th>180035</th>\n",
              "      <td>4</td>\n",
              "    </tr>\n",
              "    <tr>\n",
              "      <th>180036</th>\n",
              "      <td>4</td>\n",
              "    </tr>\n",
              "    <tr>\n",
              "      <th>180037</th>\n",
              "      <td>4</td>\n",
              "    </tr>\n",
              "    <tr>\n",
              "      <th>180038</th>\n",
              "      <td>1</td>\n",
              "    </tr>\n",
              "    <tr>\n",
              "      <th>180039</th>\n",
              "      <td>1</td>\n",
              "    </tr>\n",
              "  </tbody>\n",
              "</table>\n",
              "<p>180040 rows × 1 columns</p>\n",
              "</div>"
            ],
            "text/plain": [
              "        0\n",
              "0       3\n",
              "1       2\n",
              "2       2\n",
              "3       2\n",
              "4       2\n",
              "...    ..\n",
              "180035  4\n",
              "180036  4\n",
              "180037  4\n",
              "180038  1\n",
              "180039  1\n",
              "\n",
              "[180040 rows x 1 columns]"
            ]
          },
          "metadata": {},
          "execution_count": 14
        }
      ]
    },
    {
      "cell_type": "code",
      "metadata": {
        "colab": {
          "base_uri": "https://localhost:8080/"
        },
        "id": "f0SpX-a0hZht",
        "outputId": "15dbf40e-c4b4-46cc-be4f-5abb765f9cb5"
      },
      "source": [
        "num_classes = len(le.classes_)\n",
        "class_names = le.classes_\n",
        "num_classes , class_names"
      ],
      "execution_count": null,
      "outputs": [
        {
          "output_type": "execute_result",
          "data": {
            "text/plain": [
              "(5, array(['BACKGROUND', 'CONCLUSIONS', 'METHODS', 'OBJECTIVE', 'RESULTS'],\n",
              "       dtype=object))"
            ]
          },
          "metadata": {},
          "execution_count": 15
        }
      ]
    },
    {
      "cell_type": "markdown",
      "metadata": {
        "id": "GPqaX4wFhimG"
      },
      "source": [
        "## Modelling"
      ]
    },
    {
      "cell_type": "markdown",
      "metadata": {
        "id": "0Bz6kD_KiJMv"
      },
      "source": [
        "### Model 0 : Baseline (Naive Bayes with TF-IDF)"
      ]
    },
    {
      "cell_type": "code",
      "metadata": {
        "colab": {
          "base_uri": "https://localhost:8080/"
        },
        "id": "62BEVyeAiRwG",
        "outputId": "74fb5ce6-c55b-4318-8d4e-69825b9b3ea6"
      },
      "source": [
        "from sklearn.feature_extraction.text import TfidfVectorizer\n",
        "from sklearn.naive_bayes import MultinomialNB\n",
        "from sklearn.pipeline import Pipeline\n",
        "\n",
        "model_0 = Pipeline([\n",
        "                    (\"tf-idf\",TfidfVectorizer()),\n",
        "                    (\"clf\",MultinomialNB())\n",
        "])\n",
        "\n",
        "model_0.fit(train_data[\"text\"],train_labels_le)"
      ],
      "execution_count": null,
      "outputs": [
        {
          "output_type": "execute_result",
          "data": {
            "text/plain": [
              "Pipeline(memory=None,\n",
              "         steps=[('tf-idf',\n",
              "                 TfidfVectorizer(analyzer='word', binary=False,\n",
              "                                 decode_error='strict',\n",
              "                                 dtype=<class 'numpy.float64'>,\n",
              "                                 encoding='utf-8', input='content',\n",
              "                                 lowercase=True, max_df=1.0, max_features=None,\n",
              "                                 min_df=1, ngram_range=(1, 1), norm='l2',\n",
              "                                 preprocessor=None, smooth_idf=True,\n",
              "                                 stop_words=None, strip_accents=None,\n",
              "                                 sublinear_tf=False,\n",
              "                                 token_pattern='(?u)\\\\b\\\\w\\\\w+\\\\b',\n",
              "                                 tokenizer=None, use_idf=True,\n",
              "                                 vocabulary=None)),\n",
              "                ('clf',\n",
              "                 MultinomialNB(alpha=1.0, class_prior=None, fit_prior=True))],\n",
              "         verbose=False)"
            ]
          },
          "metadata": {},
          "execution_count": 16
        }
      ]
    },
    {
      "cell_type": "code",
      "metadata": {
        "colab": {
          "base_uri": "https://localhost:8080/"
        },
        "id": "BENKbIrrkPt8",
        "outputId": "5162335f-7574-464b-f2be-00ffac63cb07"
      },
      "source": [
        "from sklearn.metrics import classification_report\n",
        "report_0 = classification_report(val_labels_le,model_0.predict(val_data[\"text\"]),target_names=class_names)\n",
        "print(report_0,model_0.score(val_data[\"text\"],val_labels_le))"
      ],
      "execution_count": null,
      "outputs": [
        {
          "output_type": "stream",
          "name": "stdout",
          "text": [
            "              precision    recall  f1-score   support\n",
            "\n",
            "  BACKGROUND       0.66      0.49      0.56      3449\n",
            " CONCLUSIONS       0.65      0.59      0.61      4582\n",
            "     METHODS       0.72      0.87      0.79      9964\n",
            "   OBJECTIVE       0.75      0.14      0.23      2376\n",
            "     RESULTS       0.76      0.86      0.81      9841\n",
            "\n",
            "    accuracy                           0.72     30212\n",
            "   macro avg       0.71      0.59      0.60     30212\n",
            "weighted avg       0.72      0.72      0.70     30212\n",
            " 0.7218323844829869\n"
          ]
        }
      ]
    },
    {
      "cell_type": "markdown",
      "metadata": {
        "id": "kfNGfKGtLm2O"
      },
      "source": [
        "### Preparing data for deep sequences model"
      ]
    },
    {
      "cell_type": "code",
      "metadata": {
        "id": "4ZhvgGhoL3TL"
      },
      "source": [
        "import numpy as np\n",
        "import tensorflow as tf\n",
        "from tensorflow.keras import layers"
      ],
      "execution_count": null,
      "outputs": []
    },
    {
      "cell_type": "code",
      "metadata": {
        "colab": {
          "base_uri": "https://localhost:8080/"
        },
        "id": "YHIlQ9VhL-a_",
        "outputId": "f79d15cb-f544-4ddb-b252-6a2169c99b1f"
      },
      "source": [
        "# average sentence lenght\n",
        "sent_lens = [len(sentence.split()) for sentence in train_data[\"text\"]]\n",
        "av_sent_lens = np.mean(sent_lens)\n",
        "av_sent_lens"
      ],
      "execution_count": null,
      "outputs": [
        {
          "output_type": "execute_result",
          "data": {
            "text/plain": [
              "26.338269273494777"
            ]
          },
          "metadata": {},
          "execution_count": 19
        }
      ]
    },
    {
      "cell_type": "code",
      "metadata": {
        "colab": {
          "base_uri": "https://localhost:8080/"
        },
        "id": "0H3yCORvMy15",
        "outputId": "3d273742-dfd0-41dd-b099-5857b8228b8a"
      },
      "source": [
        "# distribution of number of words\n",
        "import matplotlib.pyplot as plt\n",
        "plt.figure(figsize=(20,4))\n",
        "plt.hist(sent_lens, bins = 50);"
      ],
      "execution_count": null,
      "outputs": [
        {
          "output_type": "display_data",
          "data": {
            "image/png": "[encoded data removed]",
            "text/plain": [
              "<Figure size 1440x288 with 1 Axes>"
            ]
          },
          "metadata": {}
        }
      ]
    },
    {
      "cell_type": "code",
      "metadata": {
        "colab": {
          "base_uri": "https://localhost:8080/"
        },
        "id": "MRrVRUn7NCPW",
        "outputId": "7be1bfcb-9119-479f-8842-9384031a9a28"
      },
      "source": [
        "# what max lenght to cover 95% of our data ?\n",
        "pred_max_len = int(np.percentile(sent_lens,95))\n",
        "pred_max_len"
      ],
      "execution_count": null,
      "outputs": [
        {
          "output_type": "execute_result",
          "data": {
            "text/plain": [
              "55"
            ]
          },
          "metadata": {},
          "execution_count": 21
        }
      ]
    },
    {
      "cell_type": "code",
      "metadata": {
        "colab": {
          "base_uri": "https://localhost:8080/"
        },
        "id": "oTC127i_ODid",
        "outputId": "9976ebba-ad7a-4f7b-d7d1-624d321eee89"
      },
      "source": [
        "max(sent_lens)"
      ],
      "execution_count": null,
      "outputs": [
        {
          "output_type": "execute_result",
          "data": {
            "text/plain": [
              "296"
            ]
          },
          "metadata": {},
          "execution_count": 22
        }
      ]
    },
    {
      "cell_type": "markdown",
      "metadata": {
        "id": "qwwxQSWPOb6C"
      },
      "source": [
        "### Create text vectorizer layer"
      ]
    },
    {
      "cell_type": "code",
      "metadata": {
        "id": "PcDUbSHKO1jY"
      },
      "source": [
        "from tensorflow.keras.layers.experimental.preprocessing import TextVectorization\n",
        "\n",
        "max_tokens = 68_000 # There is 68k different words in our vocabulary according to the original paper https://arxiv.org/pdf/1710.06071.pdf\n",
        "\n",
        "text_vec = TextVectorization(max_tokens=max_tokens,\n",
        "                             output_sequence_length=pred_max_len)"
      ],
      "execution_count": null,
      "outputs": []
    },
    {
      "cell_type": "code",
      "metadata": {
        "id": "DXl8-Rm4PpXD"
      },
      "source": [
        "#  Adapt text vectorizer to training sentences\n",
        "text_vec.adapt(train_data[\"text\"])"
      ],
      "execution_count": null,
      "outputs": []
    },
    {
      "cell_type": "code",
      "metadata": {
        "colab": {
          "base_uri": "https://localhost:8080/"
        },
        "id": "VxpWEVS9QmOk",
        "outputId": "558477a5-7225-4a9f-f937-2ffee7bf075b"
      },
      "source": [
        "# Test it\n",
        "import random\n",
        "target = random.choice(train_data[\"text\"])\n",
        "print(f\"\"\"\n",
        "Text:\\n{target}\n",
        "\n",
        "-----------------\n",
        "\n",
        "Lenght:\\n{len(target.split())}\n",
        "\n",
        "-----------------\n",
        "\n",
        "Vectorized:\\n{text_vec([target])}\"\"\")"
      ],
      "execution_count": null,
      "outputs": [
        {
          "output_type": "stream",
          "name": "stdout",
          "text": [
            "\n",
            "Text:\n",
            "we observed significantly less bcf and lf in the high-dose arm .\n",
            "\n",
            "-----------------\n",
            "\n",
            "Lenght:\n",
            "12\n",
            "\n",
            "-----------------\n",
            "\n",
            "Vectorized:\n",
            "[[   43   148    39   211 32479     3  4196     5     2  1350   207     0\n",
            "      0     0     0     0     0     0     0     0     0     0     0     0\n",
            "      0     0     0     0     0     0     0     0     0     0     0     0\n",
            "      0     0     0     0     0     0     0     0     0     0     0     0\n",
            "      0     0     0     0     0     0     0]]\n"
          ]
        }
      ]
    },
    {
      "cell_type": "code",
      "metadata": {
        "colab": {
          "base_uri": "https://localhost:8080/"
        },
        "id": "hfRs7dikRmWm",
        "outputId": "7c19097d-c5cd-439c-bc3a-bd8cd9e3dc17"
      },
      "source": [
        "# How many different words\n",
        "rct_20k_vocab = text_vec.get_vocabulary()\n",
        "print(f\"Number : {len(rct_20k_vocab)}\")\n",
        "print(f\"Most common : {rct_20k_vocab[:5]}\")\n",
        "print(f\"least common : {rct_20k_vocab[-5:]}\")"
      ],
      "execution_count": null,
      "outputs": [
        {
          "output_type": "stream",
          "name": "stdout",
          "text": [
            "Number : 64841\n",
            "Most common : ['', '[UNK]', 'the', 'and', 'of']\n",
            "least common : ['aainduced', 'aaigroup', 'aachener', 'aachen', 'aaacp']\n"
          ]
        }
      ]
    },
    {
      "cell_type": "code",
      "metadata": {
        "colab": {
          "base_uri": "https://localhost:8080/"
        },
        "id": "KIbHDDIiR_C8",
        "outputId": "9ef15b01-1736-421c-cac3-feb82cf742b9"
      },
      "source": [
        "text_vec.get_config()"
      ],
      "execution_count": null,
      "outputs": [
        {
          "output_type": "execute_result",
          "data": {
            "text/plain": [
              "{'batch_input_shape': (None,),\n",
              " 'dtype': 'string',\n",
              " 'max_tokens': 68000,\n",
              " 'name': 'text_vectorization',\n",
              " 'ngrams': None,\n",
              " 'output_mode': 'int',\n",
              " 'output_sequence_length': 55,\n",
              " 'pad_to_max_tokens': False,\n",
              " 'split': 'whitespace',\n",
              " 'standardize': 'lower_and_strip_punctuation',\n",
              " 'trainable': True}"
            ]
          },
          "metadata": {},
          "execution_count": 27
        }
      ]
    },
    {
      "cell_type": "markdown",
      "metadata": {
        "id": "tTX6XCtySOnX"
      },
      "source": [
        "### Create custom text embedding"
      ]
    },
    {
      "cell_type": "code",
      "metadata": {
        "id": "DiiBPg3vSdBg"
      },
      "source": [
        "token_emb = layers.Embedding(input_dim=len(train_data[\"text\"]),\n",
        "                             output_dim=128,\n",
        "                             mask_zero=True,\n",
        "                             name=\"token_embedding\")"
      ],
      "execution_count": null,
      "outputs": []
    },
    {
      "cell_type": "code",
      "metadata": {
        "colab": {
          "base_uri": "https://localhost:8080/"
        },
        "id": "CuzyFdSKTCmb",
        "outputId": "51625966-5a24-48aa-dfc4-d8a8de7c7dd8"
      },
      "source": [
        "target = random.choice(train_data[\"text\"])\n",
        "vec_sent = text_vec([target])\n",
        "emb_sent = token_emb(vec_sent)\n",
        "\n",
        "print(f\"\"\"\n",
        "Text:\\n{target}\n",
        "\n",
        "-----------------\n",
        "\n",
        "Vec:\\n{vec_sent}\n",
        "\n",
        "-----------------\n",
        "\n",
        "Emb:\\n{emb_sent}\"\"\")"
      ],
      "execution_count": null,
      "outputs": [
        {
          "output_type": "stream",
          "name": "stdout",
          "text": [
            "\n",
            "Text:\n",
            "to test the hypothesis that the impact on cardiac structure and function after intramyocardial injections of autologous mscs results from a concordance of prorecovery phenotypic effects .\n",
            "\n",
            "-----------------\n",
            "\n",
            "Vec:\n",
            "[[    6   128     2   930    28     2   305    18   342  2743     3   149\n",
            "     21 10305   831     4  2598  6628   117    27     8  4665     4 35245\n",
            "   9094    71     0     0     0     0     0     0     0     0     0     0\n",
            "      0     0     0     0     0     0     0     0     0     0     0     0\n",
            "      0     0     0     0     0     0     0]]\n",
            "\n",
            "-----------------\n",
            "\n",
            "Emb:\n",
            "[[[-0.01146288 -0.00919499  0.0090454  ... -0.00566579  0.02574965\n",
            "   -0.02714073]\n",
            "  [-0.03566134  0.00471165 -0.00732742 ... -0.00609612 -0.00495911\n",
            "   -0.00960689]\n",
            "  [-0.03254475 -0.00353479  0.01369439 ...  0.00241952 -0.03542222\n",
            "   -0.01566119]\n",
            "  ...\n",
            "  [ 0.0045297  -0.02141566  0.01649321 ... -0.0041483  -0.02171525\n",
            "    0.01167712]\n",
            "  [ 0.0045297  -0.02141566  0.01649321 ... -0.0041483  -0.02171525\n",
            "    0.01167712]\n",
            "  [ 0.0045297  -0.02141566  0.01649321 ... -0.0041483  -0.02171525\n",
            "    0.01167712]]]\n"
          ]
        }
      ]
    },
    {
      "cell_type": "markdown",
      "metadata": {
        "id": "SxvcsxEATZtw"
      },
      "source": [
        "### Create datasets ( to load data as fast as possible )"
      ]
    },
    {
      "cell_type": "code",
      "metadata": {
        "colab": {
          "base_uri": "https://localhost:8080/"
        },
        "id": "b6uaIodCUKpY",
        "outputId": "9da7a9fe-423d-410f-daeb-8756bad49363"
      },
      "source": [
        "# Turn our data into Tensorflow Datasets\n",
        "\n",
        "train_dataset = tf.data.Dataset.from_tensor_slices((train_data[\"text\"],train_labels_oh))\n",
        "val_dataset = tf.data.Dataset.from_tensor_slices((val_data[\"text\"],val_labels_oh))\n",
        "test_dataset = tf.data.Dataset.from_tensor_slices((test_data[\"text\"],test_labels_oh))\n",
        "train_dataset"
      ],
      "execution_count": null,
      "outputs": [
        {
          "output_type": "execute_result",
          "data": {
            "text/plain": [
              "<TensorSliceDataset shapes: ((), (5,)), types: (tf.string, tf.float64)>"
            ]
          },
          "metadata": {},
          "execution_count": 30
        }
      ]
    },
    {
      "cell_type": "code",
      "metadata": {
        "colab": {
          "base_uri": "https://localhost:8080/"
        },
        "id": "3nTrfPL7Uu9w",
        "outputId": "5ef18379-aa66-4089-816f-46492fdb23db"
      },
      "source": [
        "# Turn data into prefetched datasets\n",
        "train_dataset = train_dataset.batch(32).prefetch(tf.data.AUTOTUNE)\n",
        "val_dataset = test_dataset.batch(32).prefetch(tf.data.AUTOTUNE)\n",
        "test_dataset = test_dataset.batch(32).prefetch(tf.data.AUTOTUNE)\n",
        "train_dataset"
      ],
      "execution_count": null,
      "outputs": [
        {
          "output_type": "execute_result",
          "data": {
            "text/plain": [
              "<PrefetchDataset shapes: ((None,), (None, 5)), types: (tf.string, tf.float64)>"
            ]
          },
          "metadata": {},
          "execution_count": 31
        }
      ]
    },
    {
      "cell_type": "markdown",
      "metadata": {
        "id": "sgjJgCN_wkdE"
      },
      "source": [
        "### Model 1:Conv1D with token embeddings"
      ]
    },
    {
      "cell_type": "code",
      "metadata": {
        "id": "4VEId18Dws69"
      },
      "source": [
        "inputs = layers.Input(shape=(1,), dtype=tf.string)\n",
        "text_vector = text_vec(inputs)\n",
        "text_emb = token_emb(text_vector)\n",
        "x = layers.Conv1D(64,kernel_size=5,padding=\"same\",activation=\"relu\")(text_emb)\n",
        "x = layers.GlobalAveragePooling1D()(x)\n",
        "outputs = layers.Dense(num_classes,activation=\"softmax\")(x)\n",
        "\n",
        "model_1 = tf.keras.Model(inputs,outputs)\n",
        "\n",
        "model_1.compile(loss=\"categorical_crossentropy\",\n",
        "                optimizer=\"Adam\",\n",
        "                metrics=[\"accuracy\"])"
      ],
      "execution_count": null,
      "outputs": []
    },
    {
      "cell_type": "code",
      "metadata": {
        "colab": {
          "base_uri": "https://localhost:8080/"
        },
        "id": "BjRst7D8x5dW",
        "outputId": "7ca2dc74-0daf-4ad5-be3a-a9b78d1c81b3"
      },
      "source": [
        "hist_model1 = model_1.fit(train_dataset,\n",
        "                          validation_data = val_dataset,\n",
        "                          steps_per_epoch= int(0.1*len(train_dataset)),\n",
        "                          epochs=3,\n",
        "                          validation_steps= int(0.10 * len(val_dataset)))"
      ],
      "execution_count": null,
      "outputs": [
        {
          "output_type": "stream",
          "name": "stdout",
          "text": [
            "Epoch 1/3\n",
            "562/562 [==============================] - 47s 26ms/step - loss: 0.9287 - accuracy: 0.6340 - val_loss: 0.6900 - val_accuracy: 0.7311\n",
            "Epoch 2/3\n",
            "562/562 [==============================] - 14s 26ms/step - loss: 0.6580 - accuracy: 0.7571 - val_loss: 0.6348 - val_accuracy: 0.7676\n",
            "Epoch 3/3\n",
            "562/562 [==============================] - 14s 26ms/step - loss: 0.6151 - accuracy: 0.7759 - val_loss: 0.5873 - val_accuracy: 0.7852\n"
          ]
        }
      ]
    },
    {
      "cell_type": "code",
      "metadata": {
        "colab": {
          "base_uri": "https://localhost:8080/",
          "height": 268
        },
        "id": "FBZyHZvuy11j",
        "outputId": "718b09ba-b8e4-44f8-af8f-067f5dd9fa22"
      },
      "source": [
        "pd.DataFrame(hist_model1.history).plot();"
      ],
      "execution_count": null,
      "outputs": [
        {
          "output_type": "display_data",
          "data": {
            "image/png": "[encoded data removed]",
            "text/plain": [
              "<Figure size 432x288 with 1 Axes>"
            ]
          },
          "metadata": {}
        }
      ]
    },
    {
      "cell_type": "code",
      "metadata": {
        "colab": {
          "base_uri": "https://localhost:8080/"
        },
        "id": "fiQlohKmy8D_",
        "outputId": "718c0db0-8935-420e-cd69-2beefdbe83e8"
      },
      "source": [
        "model_1.evaluate(val_dataset)"
      ],
      "execution_count": null,
      "outputs": [
        {
          "output_type": "stream",
          "name": "stdout",
          "text": [
            "942/942 [==============================] - 5s 5ms/step - loss: 0.6096 - accuracy: 0.7835\n"
          ]
        },
        {
          "output_type": "execute_result",
          "data": {
            "text/plain": [
              "[0.6096189022064209, 0.7834743857383728]"
            ]
          },
          "metadata": {},
          "execution_count": 35
        }
      ]
    },
    {
      "cell_type": "markdown",
      "metadata": {
        "id": "PCC8cqg41Dwj"
      },
      "source": [
        "### Model 2 : Feature Extractor with pretrained token embedding"
      ]
    },
    {
      "cell_type": "code",
      "metadata": {
        "id": "eYoiYVfe10yd"
      },
      "source": [
        "import tensorflow_hub as hub\n",
        "\n",
        "hub_emb_layer = hub.KerasLayer(\"https://tfhub.dev/google/universal-sentence-encoder/4\",\n",
        "                               trainable=False)"
      ],
      "execution_count": null,
      "outputs": []
    },
    {
      "cell_type": "code",
      "metadata": {
        "id": "892P9lyQ3VKa"
      },
      "source": [
        "inputs = layers.Input(shape=[],dtype=tf.string)\n",
        "pretrained_embedding =hub_emb_layer(inputs)\n",
        "x = layers.Dense(128,activation=\"relu\")(pretrained_embedding)\n",
        "outputs = layers.Dense(num_classes,activation=\"softmax\")(x)\n",
        "model_2 = tf.keras.Model(inputs,outputs)"
      ],
      "execution_count": null,
      "outputs": []
    },
    {
      "cell_type": "code",
      "metadata": {
        "colab": {
          "base_uri": "https://localhost:8080/",
          "height": 455
        },
        "id": "6rxEwbTv0J6f",
        "outputId": "f676b14a-0fdb-4274-cb82-5f7735f79969"
      },
      "source": [
        "model_2.compile(loss=\"categorical_crossentropy\",\n",
        "                optimizer=\"Adam\",\n",
        "                metrics=[\"accuracy\"])\n",
        "\n",
        "model_2_hist = model_2.fit(train_dataset,\n",
        "            epochs=5,\n",
        "            steps_per_epoch=int(0.15 * len(train_dataset)),\n",
        "            validation_data=val_dataset,\n",
        "            validation_steps=int(0.15 * len(val_dataset)))\n",
        "\n",
        "pd.DataFrame(model_2_hist.history).plot()"
      ],
      "execution_count": null,
      "outputs": [
        {
          "output_type": "stream",
          "name": "stdout",
          "text": [
            "Epoch 1/5\n",
            "844/844 [==============================] - 21s 21ms/step - loss: 0.8705 - accuracy: 0.6644 - val_loss: 0.7826 - val_accuracy: 0.6986\n",
            "Epoch 2/5\n",
            "844/844 [==============================] - 18s 21ms/step - loss: 0.7544 - accuracy: 0.7112 - val_loss: 0.7487 - val_accuracy: 0.7077\n",
            "Epoch 3/5\n",
            "844/844 [==============================] - 18s 21ms/step - loss: 0.7195 - accuracy: 0.7241 - val_loss: 0.7123 - val_accuracy: 0.7221\n",
            "Epoch 4/5\n",
            "844/844 [==============================] - 18s 21ms/step - loss: 0.7199 - accuracy: 0.7236 - val_loss: 0.6904 - val_accuracy: 0.7327\n",
            "Epoch 5/5\n",
            "844/844 [==============================] - 18s 22ms/step - loss: 0.6806 - accuracy: 0.7415 - val_loss: 0.6777 - val_accuracy: 0.7378\n"
          ]
        },
        {
          "output_type": "execute_result",
          "data": {
            "text/plain": [
              "<matplotlib.axes._subplots.AxesSubplot at 0x7ff9b3170fd0>"
            ]
          },
          "metadata": {},
          "execution_count": 38
        },
        {
          "output_type": "display_data",
          "data": {
            "image/png": "[encoded data removed]",
            "text/plain": [
              "<Figure size 432x288 with 1 Axes>"
            ]
          },
          "metadata": {}
        }
      ]
    },
    {
      "cell_type": "code",
      "metadata": {
        "colab": {
          "base_uri": "https://localhost:8080/"
        },
        "id": "_d-HAcb50lbv",
        "outputId": "fd3da73d-699b-466a-c2fd-61b85635acf5"
      },
      "source": [
        "report2 = model_2.evaluate(val_dataset)\n",
        "report2"
      ],
      "execution_count": null,
      "outputs": [
        {
          "output_type": "stream",
          "name": "stdout",
          "text": [
            "942/942 [==============================] - 17s 18ms/step - loss: 0.6884 - accuracy: 0.7380\n"
          ]
        },
        {
          "output_type": "execute_result",
          "data": {
            "text/plain": [
              "[0.6883915066719055, 0.7380122542381287]"
            ]
          },
          "metadata": {},
          "execution_count": 39
        }
      ]
    },
    {
      "cell_type": "code",
      "metadata": {
        "colab": {
          "base_uri": "https://localhost:8080/",
          "height": 35
        },
        "id": "7rikbFTK0xEx",
        "outputId": "0842246d-3366-4261-cda3-c0675fd4457f"
      },
      "source": [
        "class_names[tf.argmax(model_2.predict([\"In order to get this done, we have to make some experiments\"])[0])]"
      ],
      "execution_count": null,
      "outputs": [
        {
          "output_type": "execute_result",
          "data": {
            "application/vnd.google.colaboratory.intrinsic+json": {
              "type": "string"
            },
            "text/plain": [
              "'METHODS'"
            ]
          },
          "metadata": {},
          "execution_count": 40
        }
      ]
    },
    {
      "cell_type": "code",
      "metadata": {
        "colab": {
          "base_uri": "https://localhost:8080/",
          "height": 35
        },
        "id": "fBaI4h131iaI",
        "outputId": "cbc422e8-7672-4b09-a5e3-4024a458251f"
      },
      "source": [
        "class_names[tf.argmax(model_2.predict([\"The figures show the relationship between this and that\"])[0])]"
      ],
      "execution_count": null,
      "outputs": [
        {
          "output_type": "execute_result",
          "data": {
            "application/vnd.google.colaboratory.intrinsic+json": {
              "type": "string"
            },
            "text/plain": [
              "'RESULTS'"
            ]
          },
          "metadata": {},
          "execution_count": 41
        }
      ]
    },
    {
      "cell_type": "markdown",
      "metadata": {
        "id": "VVh18hNb2Pyq"
      },
      "source": [
        "### Model 3 : Conv1D with character embeddings"
      ]
    },
    {
      "cell_type": "code",
      "metadata": {
        "id": "6QJP2cG63Ieu"
      },
      "source": [
        "# we're goin to create a character-level tokenizer\n",
        "def split_char(text):\n",
        "  return \" \".join(list(text))"
      ],
      "execution_count": null,
      "outputs": []
    },
    {
      "cell_type": "code",
      "metadata": {
        "colab": {
          "base_uri": "https://localhost:8080/"
        },
        "id": "4pjdTqCi3mLN",
        "outputId": "5f31b887-2742-4fe9-97e8-c377c44bbb51"
      },
      "source": [
        "train_chars = [split_char(sentence) for sentence in train_data[\"text\"]]\n",
        "val_chars = [split_char(sentence) for sentence in val_data[\"text\"]]\n",
        "test_chars = [split_char(sentence) for sentence in test_data[\"text\"]]\n",
        "train_chars[:5]"
      ],
      "execution_count": null,
      "outputs": [
        {
          "output_type": "execute_result",
          "data": {
            "text/plain": [
              "['t o   i n v e s t i g a t e   t h e   e f f i c a c y   o f   @   w e e k s   o f   d a i l y   l o w - d o s e   o r a l   p r e d n i s o l o n e   i n   i m p r o v i n g   p a i n   ,   m o b i l i t y   ,   a n d   s y s t e m i c   l o w - g r a d e   i n f l a m m a t i o n   i n   t h e   s h o r t   t e r m   a n d   w h e t h e r   t h e   e f f e c t   w o u l d   b e   s u s t a i n e d   a t   @   w e e k s   i n   o l d e r   a d u l t s   w i t h   m o d e r a t e   t o   s e v e r e   k n e e   o s t e o a r t h r i t i s   (   o a   )   .',\n",
              " 'a   t o t a l   o f   @   p a t i e n t s   w i t h   p r i m a r y   k n e e   o a   w e r e   r a n d o m i z e d   @ : @   ;   @   r e c e i v e d   @   m g / d a y   o f   p r e d n i s o l o n e   a n d   @   r e c e i v e d   p l a c e b o   f o r   @   w e e k s   .',\n",
              " 'o u t c o m e   m e a s u r e s   i n c l u d e d   p a i n   r e d u c t i o n   a n d   i m p r o v e m e n t   i n   f u n c t i o n   s c o r e s   a n d   s y s t e m i c   i n f l a m m a t i o n   m a r k e r s   .',\n",
              " 'p a i n   w a s   a s s e s s e d   u s i n g   t h e   v i s u a l   a n a l o g   p a i n   s c a l e   (   @ - @   m m   )   .',\n",
              " 's e c o n d a r y   o u t c o m e   m e a s u r e s   i n c l u d e d   t h e   w e s t e r n   o n t a r i o   a n d   m c m a s t e r   u n i v e r s i t i e s   o s t e o a r t h r i t i s   i n d e x   s c o r e s   ,   p a t i e n t   g l o b a l   a s s e s s m e n t   (   p g a   )   o f   t h e   s e v e r i t y   o f   k n e e   o a   ,   a n d   @ - m i n   w a l k   d i s t a n c e   (   @ m w d   )   .']"
            ]
          },
          "metadata": {},
          "execution_count": 43
        }
      ]
    },
    {
      "cell_type": "code",
      "metadata": {
        "colab": {
          "base_uri": "https://localhost:8080/"
        },
        "id": "WoyMqjbQ3u1Q",
        "outputId": "60f86c26-6ab8-4a83-f7dd-5a0ad2ef53be"
      },
      "source": [
        "# Average length ?\n",
        "\n",
        "chars_lens = [len(sentence) for sentence in train_data[\"text\"]]\n",
        "mean_char_len = np.mean(chars_lens)\n",
        "mean_char_len"
      ],
      "execution_count": null,
      "outputs": [
        {
          "output_type": "execute_result",
          "data": {
            "text/plain": [
              "149.3662574983337"
            ]
          },
          "metadata": {},
          "execution_count": 44
        }
      ]
    },
    {
      "cell_type": "code",
      "metadata": {
        "colab": {
          "base_uri": "https://localhost:8080/",
          "height": 322
        },
        "id": "AlBh7bnw43et",
        "outputId": "e99387d9-5c78-40a1-b79f-a92be6328357"
      },
      "source": [
        "plt.figure(figsize=(15,5))\n",
        "plt.hist(chars_lens,bins=100);"
      ],
      "execution_count": null,
      "outputs": [
        {
          "output_type": "display_data",
          "data": {
            "image/png": "[encoded data removed]",
            "text/plain": [
              "<Figure size 1080x360 with 1 Axes>"
            ]
          },
          "metadata": {}
        }
      ]
    },
    {
      "cell_type": "code",
      "metadata": {
        "colab": {
          "base_uri": "https://localhost:8080/"
        },
        "id": "nTE8hiWq48zy",
        "outputId": "15eb99cf-4f80-462f-9c40-0c42df9f4811"
      },
      "source": [
        "out_char_len = int(np.percentile(chars_lens,95))\n",
        "out_char_len"
      ],
      "execution_count": null,
      "outputs": [
        {
          "output_type": "execute_result",
          "data": {
            "text/plain": [
              "290"
            ]
          },
          "metadata": {},
          "execution_count": 46
        }
      ]
    },
    {
      "cell_type": "code",
      "metadata": {
        "colab": {
          "base_uri": "https://localhost:8080/",
          "height": 35
        },
        "id": "CJimm7Lb6Dm3",
        "outputId": "b9b67596-717e-49cf-87ac-877425bf5666"
      },
      "source": [
        "# get all characters\n",
        "import string\n",
        "alphabet = string.ascii_lowercase + string.digits + string.punctuation\n",
        "alphabet"
      ],
      "execution_count": null,
      "outputs": [
        {
          "output_type": "execute_result",
          "data": {
            "application/vnd.google.colaboratory.intrinsic+json": {
              "type": "string"
            },
            "text/plain": [
              "'abcdefghijklmnopqrstuvwxyz0123456789!\"#$%&\\'()*+,-./:;<=>?@[\\\\]^_`{|}~'"
            ]
          },
          "metadata": {},
          "execution_count": 47
        }
      ]
    },
    {
      "cell_type": "code",
      "metadata": {
        "id": "tUY0RUlL6uEG"
      },
      "source": [
        "# Create char-level token vectorizer\n",
        "\n",
        "char_vectorizer = TextVectorization(max_tokens=len(alphabet)+2,\n",
        "                                    output_sequence_length = out_char_len,\n",
        "                                    )"
      ],
      "execution_count": null,
      "outputs": []
    },
    {
      "cell_type": "code",
      "metadata": {
        "id": "mbB29Gif7ZPe"
      },
      "source": [
        "# Adapt it to our data\n",
        "char_vectorizer.adapt(train_chars)"
      ],
      "execution_count": null,
      "outputs": []
    },
    {
      "cell_type": "code",
      "metadata": {
        "colab": {
          "base_uri": "https://localhost:8080/"
        },
        "id": "5CVFOiWw7fXB",
        "outputId": "dc2814b3-5b49-48c2-eb13-2553957dbf27"
      },
      "source": [
        "char_vectorizer.get_vocabulary() # The most to the least used character"
      ],
      "execution_count": null,
      "outputs": [
        {
          "output_type": "execute_result",
          "data": {
            "text/plain": [
              "['',\n",
              " '[UNK]',\n",
              " 'e',\n",
              " 't',\n",
              " 'i',\n",
              " 'a',\n",
              " 'n',\n",
              " 'o',\n",
              " 'r',\n",
              " 's',\n",
              " 'd',\n",
              " 'c',\n",
              " 'l',\n",
              " 'h',\n",
              " 'p',\n",
              " 'm',\n",
              " 'u',\n",
              " 'f',\n",
              " 'g',\n",
              " 'y',\n",
              " 'w',\n",
              " 'v',\n",
              " 'b',\n",
              " 'k',\n",
              " 'x',\n",
              " 'z',\n",
              " 'q',\n",
              " 'j']"
            ]
          },
          "metadata": {},
          "execution_count": 50
        }
      ]
    },
    {
      "cell_type": "code",
      "metadata": {
        "id": "AcJeisVM7l2n"
      },
      "source": [
        "# Create a char embedding layer\n",
        "\n",
        "char_emb = layers.Embedding(input_dim=len(char_vectorizer.get_vocabulary()),\n",
        "                            output_dim=25, # size of the char embedding from the paper\n",
        "                            mask_zero=True)"
      ],
      "execution_count": null,
      "outputs": []
    },
    {
      "cell_type": "code",
      "metadata": {
        "id": "5r8ECcqU9hms"
      },
      "source": [
        "inputs = layers.Input(shape=(1,),dtype=tf.string)\n",
        "char_vec = char_vectorizer(inputs)\n",
        "char_em = char_emb(char_vec)\n",
        "x = layers.Conv1D(64,kernel_size=10,padding=\"same\",activation=\"relu\")(char_em)\n",
        "x = layers.GlobalMaxPool1D()(x)\n",
        "outputs = layers.Dense(num_classes, activation=\"softmax\")(x)\n",
        "\n",
        "model_3 = tf.keras.Model(inputs,outputs)\n",
        "model_3.compile(loss=\"categorical_crossentropy\",\n",
        "                optimizer=\"Adam\",\n",
        "                metrics=\"accuracy\")"
      ],
      "execution_count": null,
      "outputs": []
    },
    {
      "cell_type": "code",
      "metadata": {
        "id": "Qr8H_e0T_4Wl"
      },
      "source": [
        "char_train_data = tf.data.Dataset.from_tensor_slices((train_chars,train_labels_oh)).batch(32).prefetch(tf.data.AUTOTUNE)\n",
        "char_val_data = tf.data.Dataset.from_tensor_slices((val_chars,val_labels_oh)).batch(32).prefetch(tf.data.AUTOTUNE)\n",
        "char_test_data = tf.data.Dataset.from_tensor_slices((test_chars,test_labels_oh)).batch(32).prefetch(tf.data.AUTOTUNE)"
      ],
      "execution_count": null,
      "outputs": []
    },
    {
      "cell_type": "code",
      "metadata": {
        "colab": {
          "base_uri": "https://localhost:8080/",
          "height": 557
        },
        "id": "LzI2LgXm_NJF",
        "outputId": "8222957b-553c-4c98-add7-25ff2a1a41fb"
      },
      "source": [
        "model3_hist = model_3.fit(char_train_data,\n",
        "                         epochs=8,\n",
        "                         steps_per_epoch=int(0.1 * len(char_train_data)),\n",
        "                         validation_data=char_val_data,\n",
        "                         validation_steps=int(0.1 * len(char_val_data)))\n",
        "\n",
        "model_3.evaluate(char_val_data)\n",
        "pd.DataFrame(model3_hist.history).plot();"
      ],
      "execution_count": null,
      "outputs": [
        {
          "output_type": "stream",
          "name": "stdout",
          "text": [
            "Epoch 1/8\n",
            "562/562 [==============================] - 7s 12ms/step - loss: 1.2338 - accuracy: 0.4947 - val_loss: 1.0216 - val_accuracy: 0.5971\n",
            "Epoch 2/8\n",
            "562/562 [==============================] - 6s 11ms/step - loss: 0.9641 - accuracy: 0.6197 - val_loss: 0.8963 - val_accuracy: 0.6529\n",
            "Epoch 3/8\n",
            "562/562 [==============================] - 6s 11ms/step - loss: 0.8684 - accuracy: 0.6666 - val_loss: 0.8163 - val_accuracy: 0.6932\n",
            "Epoch 4/8\n",
            "562/562 [==============================] - 6s 11ms/step - loss: 0.8148 - accuracy: 0.6874 - val_loss: 0.7831 - val_accuracy: 0.7064\n",
            "Epoch 5/8\n",
            "562/562 [==============================] - 6s 11ms/step - loss: 0.7956 - accuracy: 0.6929 - val_loss: 0.7631 - val_accuracy: 0.7128\n",
            "Epoch 6/8\n",
            "562/562 [==============================] - 6s 11ms/step - loss: 0.7805 - accuracy: 0.7003 - val_loss: 0.7390 - val_accuracy: 0.7214\n",
            "Epoch 7/8\n",
            "562/562 [==============================] - 6s 11ms/step - loss: 0.7617 - accuracy: 0.7064 - val_loss: 0.7332 - val_accuracy: 0.7284\n",
            "Epoch 8/8\n",
            "562/562 [==============================] - 6s 11ms/step - loss: 0.7375 - accuracy: 0.7213 - val_loss: 0.7252 - val_accuracy: 0.7254\n",
            "945/945 [==============================] - 6s 6ms/step - loss: 0.7337 - accuracy: 0.7197\n"
          ]
        },
        {
          "output_type": "display_data",
          "data": {
            "image/png": "[encoded data removed]",
            "text/plain": [
              "<Figure size 432x288 with 1 Axes>"
            ]
          },
          "metadata": {}
        }
      ]
    },
    {
      "cell_type": "markdown",
      "metadata": {
        "id": "tT_WZIRxAS-0"
      },
      "source": [
        "### Model 4 : Character embedding + token embedding"
      ]
    },
    {
      "cell_type": "code",
      "metadata": {
        "id": "qSNCZTdNB-BI"
      },
      "source": [
        "# Setup token model\n",
        "token_inputs = layers.Input(shape=[],dtype=tf.string,name=\"token_input\")\n",
        "token_emb = hub_emb_layer(token_inputs)\n",
        "token_outputs = layers.Dense(128,activation=\"relu\")(token_emb)\n",
        "token_model = tf.keras.Model(token_inputs,token_outputs)"
      ],
      "execution_count": null,
      "outputs": []
    },
    {
      "cell_type": "code",
      "metadata": {
        "id": "Kjqe-_MXEO2W"
      },
      "source": [
        "# Setup char model\n",
        "char_inputs = layers.Input(shape=(1,),dtype=tf.string,name=\"char_input\")\n",
        "char_vec = char_vectorizer(char_inputs)\n",
        "char_em = char_emb(char_vec)\n",
        "char_bi_lstm = layers.Bidirectional(layers.LSTM(24))(char_em)\n",
        "char_model = tf.keras.Model(char_inputs,char_bi_lstm)"
      ],
      "execution_count": null,
      "outputs": []
    },
    {
      "cell_type": "code",
      "metadata": {
        "id": "kmaA_qE1F7X9"
      },
      "source": [
        "# Concatenate\n",
        "token_char_concat = layers.Concatenate(name=\"token_char_hybrid\")([token_model.output,\n",
        "                                                                  char_model.output])"
      ],
      "execution_count": null,
      "outputs": []
    },
    {
      "cell_type": "code",
      "metadata": {
        "id": "_fhPWBKTHLbg"
      },
      "source": [
        "# Create output layers - adding in Dropout\n",
        "\n",
        "combined_dropout = layers.Dropout(0.5)(token_char_concat)\n",
        "combined_dense = layers.Dense(128,activation=\"relu\")(combined_dropout)\n",
        "combined_dropout = layers.Dropout(0.5)(combined_dense)\n",
        "output = layers.Dense(num_classes,activation=\"softmax\")(combined_dropout)"
      ],
      "execution_count": null,
      "outputs": []
    },
    {
      "cell_type": "code",
      "metadata": {
        "id": "SUquZr1aIKS6"
      },
      "source": [
        "# Construct model with both inputs\n",
        "\n",
        "model_4 = tf.keras.Model(inputs=[token_model.input,char_model.input],\n",
        "                         outputs=output)"
      ],
      "execution_count": null,
      "outputs": []
    },
    {
      "cell_type": "code",
      "metadata": {
        "colab": {
          "base_uri": "https://localhost:8080/",
          "height": 976
        },
        "id": "yQT8Jd-oI2X4",
        "outputId": "1f684718-1485-4f87-feff-ed77676f8ad2"
      },
      "source": [
        "# plot model\n",
        "tf.keras.utils.plot_model(model_4,show_shapes=True)"
      ],
      "execution_count": null,
      "outputs": [
        {
          "output_type": "execute_result",
          "data": {
            "image/png": "[encoded data removed]",
            "text/plain": [
              "<IPython.core.display.Image object>"
            ]
          },
          "metadata": {},
          "execution_count": 60
        }
      ]
    },
    {
      "cell_type": "code",
      "metadata": {
        "id": "dxkkPF0XIbDo"
      },
      "source": [
        "model_4.compile(loss=\"categorical_crossentropy\",\n",
        "                optimizer=\"Adam\",\n",
        "                metrics=\"accuracy\")"
      ],
      "execution_count": null,
      "outputs": []
    },
    {
      "cell_type": "code",
      "metadata": {
        "id": "NRILgfCkKm-D"
      },
      "source": [
        "# Combine token and char into a dataset\n",
        "train_token_char_data = tf.data.Dataset.from_tensor_slices((train_data[\"text\"],train_chars))\n",
        "train_token_char_labels = tf.data.Dataset.from_tensor_slices(train_labels_oh)\n",
        "train_token_char_dataset = tf.data.Dataset.zip((train_token_char_data,train_token_char_labels)).batch(32).prefetch(tf.data.AUTOTUNE)\n",
        "\n",
        "val_token_char_data = tf.data.Dataset.from_tensor_slices((val_data[\"text\"],val_chars))\n",
        "val_token_char_labels = tf.data.Dataset.from_tensor_slices(val_labels_oh)\n",
        "val_token_char_dataset = tf.data.Dataset.zip((val_token_char_data,val_token_char_labels)).batch(32).prefetch(tf.data.AUTOTUNE)\n",
        "\n",
        "test_token_char_data = tf.data.Dataset.from_tensor_slices((test_data[\"text\"],test_chars))\n",
        "test_token_char_labels = tf.data.Dataset.from_tensor_slices(test_labels_oh)\n",
        "test_token_char_dataset = tf.data.Dataset.zip((test_token_char_data,test_token_char_labels)).batch(32).prefetch(tf.data.AUTOTUNE)"
      ],
      "execution_count": null,
      "outputs": []
    },
    {
      "cell_type": "code",
      "metadata": {
        "colab": {
          "base_uri": "https://localhost:8080/"
        },
        "id": "bDKDW_-Vm2xJ",
        "outputId": "148442f1-33f4-4db0-b89f-52ce56c1ce40"
      },
      "source": [
        "model4_hist = model_4.fit(train_token_char_dataset,\n",
        "                          epochs=5,\n",
        "                          steps_per_epoch=int(0.1*len(train_token_char_dataset)),\n",
        "                          validation_data=val_token_char_dataset,\n",
        "                          validation_steps=int(0.1*len(val_token_char_dataset)))"
      ],
      "execution_count": null,
      "outputs": [
        {
          "output_type": "stream",
          "name": "stdout",
          "text": [
            "Epoch 1/5\n",
            "562/562 [==============================] - 87s 136ms/step - loss: 0.9857 - accuracy: 0.6064 - val_loss: 0.7871 - val_accuracy: 0.6988\n",
            "Epoch 2/5\n",
            "562/562 [==============================] - 73s 130ms/step - loss: 0.7943 - accuracy: 0.6913 - val_loss: 0.7131 - val_accuracy: 0.7307\n",
            "Epoch 3/5\n",
            "562/562 [==============================] - 69s 123ms/step - loss: 0.7708 - accuracy: 0.7012 - val_loss: 0.6861 - val_accuracy: 0.7424\n",
            "Epoch 4/5\n",
            "562/562 [==============================] - 75s 133ms/step - loss: 0.7456 - accuracy: 0.7185 - val_loss: 0.6646 - val_accuracy: 0.7533\n",
            "Epoch 5/5\n",
            "562/562 [==============================] - 71s 127ms/step - loss: 0.7463 - accuracy: 0.7180 - val_loss: 0.6525 - val_accuracy: 0.7503\n"
          ]
        }
      ]
    },
    {
      "cell_type": "code",
      "metadata": {
        "colab": {
          "base_uri": "https://localhost:8080/",
          "height": 269
        },
        "id": "AbLiFkXmVjbN",
        "outputId": "11c4ec37-bfe7-4a07-ea57-bd71b147f082"
      },
      "source": [
        "pd.DataFrame(model4_hist.history).plot();"
      ],
      "execution_count": null,
      "outputs": [
        {
          "output_type": "display_data",
          "data": {
            "image/png": "[encoded data removed]",
            "text/plain": [
              "<Figure size 432x288 with 1 Axes>"
            ]
          },
          "metadata": {}
        }
      ]
    },
    {
      "cell_type": "code",
      "metadata": {
        "colab": {
          "base_uri": "https://localhost:8080/"
        },
        "id": "gb01hNMSVo9Q",
        "outputId": "5547a2af-15dc-484e-9495-50cfdbbf9b14"
      },
      "source": [
        "model_4.evaluate(val_token_char_dataset)"
      ],
      "execution_count": null,
      "outputs": [
        {
          "output_type": "stream",
          "name": "stdout",
          "text": [
            "945/945 [==============================] - 51s 54ms/step - loss: 0.6632 - accuracy: 0.7460\n"
          ]
        },
        {
          "output_type": "execute_result",
          "data": {
            "text/plain": [
              "[0.6631547212600708, 0.7460280656814575]"
            ]
          },
          "metadata": {},
          "execution_count": 65
        }
      ]
    },
    {
      "cell_type": "markdown",
      "metadata": {
        "id": "My5E8B7YnWki"
      },
      "source": [
        "### Model 5 : Character embedding + token embedding + positional embedding\n",
        "\n",
        "( a conclusion is more likely to be at the end whereas a background is more often a the beginning )"
      ]
    },
    {
      "cell_type": "code",
      "metadata": {
        "colab": {
          "base_uri": "https://localhost:8080/"
        },
        "id": "P_hyFCsOora0",
        "outputId": "aca41295-720a-423e-e9e2-6f3ce655b30d"
      },
      "source": [
        "# Create positional embeddings\n",
        "\n",
        "# One-hot-encode line_number\n",
        "train_line_number_oh = tf.one_hot(train_data[\"line\"],depth=20)\n",
        "test_line_number_oh = tf.one_hot(test_data[\"line\"],depth=20)\n",
        "val_line_number_oh = tf.one_hot(val_data[\"line\"],depth=20)\n",
        "train_line_number_oh[:5]"
      ],
      "execution_count": null,
      "outputs": [
        {
          "output_type": "execute_result",
          "data": {
            "text/plain": [
              "<tf.Tensor: shape=(5, 20), dtype=float32, numpy=\n",
              "array([[1., 0., 0., 0., 0., 0., 0., 0., 0., 0., 0., 0., 0., 0., 0., 0.,\n",
              "        0., 0., 0., 0.],\n",
              "       [0., 1., 0., 0., 0., 0., 0., 0., 0., 0., 0., 0., 0., 0., 0., 0.,\n",
              "        0., 0., 0., 0.],\n",
              "       [0., 0., 1., 0., 0., 0., 0., 0., 0., 0., 0., 0., 0., 0., 0., 0.,\n",
              "        0., 0., 0., 0.],\n",
              "       [0., 0., 0., 1., 0., 0., 0., 0., 0., 0., 0., 0., 0., 0., 0., 0.,\n",
              "        0., 0., 0., 0.],\n",
              "       [0., 0., 0., 0., 1., 0., 0., 0., 0., 0., 0., 0., 0., 0., 0., 0.,\n",
              "        0., 0., 0., 0.]], dtype=float32)>"
            ]
          },
          "metadata": {},
          "execution_count": 66
        }
      ]
    },
    {
      "cell_type": "code",
      "metadata": {
        "colab": {
          "base_uri": "https://localhost:8080/",
          "height": 268
        },
        "id": "5UZy6xJrrHIG",
        "outputId": "71ac7b06-799c-4215-e8ee-af3d6b75af33"
      },
      "source": [
        "# One-hot total_line\n",
        "\n",
        "train_data[\"total_lines\"].hist(bins=25);"
      ],
      "execution_count": null,
      "outputs": [
        {
          "output_type": "display_data",
          "data": {
            "image/png": "[encoded data removed]",
            "text/plain": [
              "<Figure size 432x288 with 1 Axes>"
            ]
          },
          "metadata": {}
        }
      ]
    },
    {
      "cell_type": "code",
      "metadata": {
        "colab": {
          "base_uri": "https://localhost:8080/"
        },
        "id": "t5rn5flsr3v6",
        "outputId": "81d73b1d-749f-44d3-b159-8536e782c222"
      },
      "source": [
        "train_line_total_oh = tf.one_hot(train_data[\"total_lines\"],depth=20)\n",
        "test_line_total_oh = tf.one_hot(test_data[\"total_lines\"],depth=20)\n",
        "val_line_total_oh = tf.one_hot(val_data[\"total_lines\"],depth=20)\n",
        "train_line_total_oh[:5]"
      ],
      "execution_count": null,
      "outputs": [
        {
          "output_type": "execute_result",
          "data": {
            "text/plain": [
              "<tf.Tensor: shape=(5, 20), dtype=float32, numpy=\n",
              "array([[0., 0., 0., 0., 0., 0., 0., 0., 0., 0., 0., 1., 0., 0., 0., 0.,\n",
              "        0., 0., 0., 0.],\n",
              "       [0., 0., 0., 0., 0., 0., 0., 0., 0., 0., 0., 1., 0., 0., 0., 0.,\n",
              "        0., 0., 0., 0.],\n",
              "       [0., 0., 0., 0., 0., 0., 0., 0., 0., 0., 0., 1., 0., 0., 0., 0.,\n",
              "        0., 0., 0., 0.],\n",
              "       [0., 0., 0., 0., 0., 0., 0., 0., 0., 0., 0., 1., 0., 0., 0., 0.,\n",
              "        0., 0., 0., 0.],\n",
              "       [0., 0., 0., 0., 0., 0., 0., 0., 0., 0., 0., 1., 0., 0., 0., 0.,\n",
              "        0., 0., 0., 0.]], dtype=float32)>"
            ]
          },
          "metadata": {},
          "execution_count": 68
        }
      ]
    },
    {
      "cell_type": "code",
      "metadata": {
        "id": "TURuC7kwEKYC"
      },
      "source": [
        "# Build a thribrid model\n",
        "\n",
        "# Token model\n",
        "token_inputs = layers.Input(shape=[],dtype=tf.string,name=\"token_inputs\")\n",
        "token_emb = hub_emb_layer(token_inputs)\n",
        "token_outputs = layers.Dense(128,activation=\"relu\")(token_emb)\n",
        "token_model = tf.keras.Model(token_inputs,token_outputs)\n",
        "\n",
        "# Char model\n",
        "char_inputs = layers.Input(shape=(1,),dtype=tf.string,name=\"char_input\")\n",
        "char_vec = char_vectorizer(char_inputs)\n",
        "char_em = char_emb(char_vec)\n",
        "char_bi_lstm = layers.Bidirectional(layers.LSTM(24))(char_em)\n",
        "char_model = tf.keras.Model(char_inputs,char_bi_lstm)\n",
        "\n",
        "# Concatenate\n",
        "token_char_concat = layers.Concatenate(name=\"token_char_hybrid\")([token_model.output,\n",
        "                                                                  char_model.output])\n",
        "z = layers.Dense(256,activation=\"relu\")(token_char_concat)\n",
        "z = layers.Dropout(0.5)(z)\n",
        "\n",
        "# Line number model\n",
        "line_number_inputs = layers.Input(shape=(20,),dtype=tf.float32, name=\"line_number_input\")\n",
        "x = layers.Dense(32, activation=\"relu\")(line_number_inputs)\n",
        "line_number_model = tf.keras.Model(line_number_inputs,x)\n",
        "\n",
        "# Total line model\n",
        "total_lines_inputs = layers.Input(shape=(20,),dtype=tf.float32, name=\"total_line_input\")\n",
        "y = layers.Dense(32, activation=\"relu\")(total_lines_inputs)\n",
        "total_lines_model = tf.keras.Model(total_lines_inputs,y)\n",
        "\n",
        "# Concatenate\n",
        "tribrid_emb = layers.Concatenate(name=\"tribrid_emb\")([z,\n",
        "                                                      line_number_model.output,\n",
        "                                                      total_lines_model.output])\n",
        "\n",
        "# Output layers\n",
        "a = layers.Dense(128,activation=\"relu\")(tribrid_emb)\n",
        "a = layers.Dropout(0.5)(a)\n",
        "output_layer = layers.Dense(5,activation=\"softmax\",name=\"output_layer\")(a)\n",
        "\n",
        "model_5 = tf.keras.Model(inputs=[token_model.input,\n",
        "                                 char_model.input,\n",
        "                                 line_number_model.input,\n",
        "                                 total_lines_model.input],\n",
        "                         outputs=output_layer)"
      ],
      "execution_count": null,
      "outputs": []
    },
    {
      "cell_type": "code",
      "metadata": {
        "colab": {
          "base_uri": "https://localhost:8080/",
          "height": 1000
        },
        "id": "GPeLmgbwCoJb",
        "outputId": "dadd9c8a-39b9-4eba-adfe-40d749409dc6"
      },
      "source": [
        "tf.keras.utils.plot_model(model_5,show_shapes=True)"
      ],
      "execution_count": null,
      "outputs": [
        {
          "output_type": "execute_result",
          "data": {
            "image/png": "[encoded data removed]",
            "text/plain": [
              "<IPython.core.display.Image object>"
            ]
          },
          "metadata": {},
          "execution_count": 70
        }
      ]
    },
    {
      "cell_type": "code",
      "metadata": {
        "id": "YP9NlezODPiS"
      },
      "source": [
        "model_5.compile(loss=tf.keras.losses.CategoricalCrossentropy(label_smoothing=0.2),\n",
        "                optimizer=\"Adam\",\n",
        "                metrics=\"accuracy\")"
      ],
      "execution_count": null,
      "outputs": []
    },
    {
      "cell_type": "code",
      "metadata": {
        "colab": {
          "base_uri": "https://localhost:8080/"
        },
        "id": "RXhROhAuEUVS",
        "outputId": "33e24ef8-6f9e-42e8-90cb-f632af25bc1d"
      },
      "source": [
        "train_all_data = tf.data.Dataset.from_tensor_slices((train_data[\"text\"],train_chars,train_line_number_oh,train_line_total_oh))\n",
        "train_all_labels = tf.data.Dataset.from_tensor_slices(train_labels_oh)\n",
        "train_all_dataset = tf.data.Dataset.zip((train_all_data,train_all_labels)).batch(32).prefetch(tf.data.AUTOTUNE)\n",
        "\n",
        "val_all_data = tf.data.Dataset.from_tensor_slices((val_data[\"text\"],val_chars,val_line_number_oh,val_line_total_oh))\n",
        "val_all_labels = tf.data.Dataset.from_tensor_slices(val_labels_oh)\n",
        "val_all_dataset = tf.data.Dataset.zip((val_all_data,val_all_labels)).batch(32).prefetch(tf.data.AUTOTUNE)\n",
        "\n",
        "test_all_data = tf.data.Dataset.from_tensor_slices((test_data[\"text\"],test_chars,test_line_number_oh,test_line_total_oh))\n",
        "test_all_labels = tf.data.Dataset.from_tensor_slices(test_labels_oh)\n",
        "test_all_dataset = tf.data.Dataset.zip((test_all_data,test_all_labels)).batch(32).prefetch(tf.data.AUTOTUNE)\n",
        "\n",
        "train_all_dataset"
      ],
      "execution_count": null,
      "outputs": [
        {
          "output_type": "execute_result",
          "data": {
            "text/plain": [
              "<PrefetchDataset shapes: (((None,), (None,), (None, 20), (None, 20)), (None, 5)), types: ((tf.string, tf.string, tf.float32, tf.float32), tf.float64)>"
            ]
          },
          "metadata": {},
          "execution_count": 72
        }
      ]
    },
    {
      "cell_type": "code",
      "metadata": {
        "id": "0BcFqTyfIAHx"
      },
      "source": [
        "tf.config.run_functions_eagerly(True)"
      ],
      "execution_count": null,
      "outputs": []
    },
    {
      "cell_type": "code",
      "metadata": {
        "colab": {
          "base_uri": "https://localhost:8080/"
        },
        "id": "HXS5oeNkGSRl",
        "outputId": "2d9c7b08-14be-4c25-f02d-c9693c14f154"
      },
      "source": [
        "model5_hist = model_5.fit(train_all_dataset,\n",
        "                          epochs=5,\n",
        "                          steps_per_epoch= int(0.1*len(train_all_dataset)),\n",
        "                          validation_data=val_all_dataset,\n",
        "                          validation_steps= int(0.1*len(val_all_dataset)))"
      ],
      "execution_count": null,
      "outputs": [
        {
          "output_type": "stream",
          "name": "stdout",
          "text": [
            "Epoch 1/5\n"
          ]
        },
        {
          "output_type": "stream",
          "name": "stderr",
          "text": [
            "/usr/local/lib/python3.7/dist-packages/tensorflow/python/framework/indexed_slices.py:449: UserWarning: Converting sparse IndexedSlices(IndexedSlices(indices=Tensor(\"gradients/EncoderDNN/EmbeddingLookup/EmbeddingLookupUnique/GatherV2_grad/Reshape_1:0\", shape=(None,), dtype=int32), values=Tensor(\"gradients/EncoderDNN/EmbeddingLookup/EmbeddingLookupUnique/GatherV2_grad/Reshape:0\", shape=(None, 320), dtype=float32), dense_shape=Tensor(\"gradients/EncoderDNN/EmbeddingLookup/EmbeddingLookupUnique/GatherV2_grad/Cast:0\", shape=(2,), dtype=int32))) to a dense Tensor of unknown shape. This may consume a large amount of memory.\n",
            "  \"shape. This may consume a large amount of memory.\" % value)\n"
          ]
        },
        {
          "output_type": "stream",
          "name": "stdout",
          "text": [
            "562/562 [==============================] - 133s 233ms/step - loss: 1.1021 - accuracy: 0.7184 - val_loss: 0.9547 - val_accuracy: 0.8205\n",
            "Epoch 2/5\n",
            "562/562 [==============================] - 131s 233ms/step - loss: 0.9660 - accuracy: 0.8168 - val_loss: 0.9165 - val_accuracy: 0.8378\n",
            "Epoch 3/5\n",
            "562/562 [==============================] - 123s 218ms/step - loss: 0.9429 - accuracy: 0.8301 - val_loss: 0.8979 - val_accuracy: 0.8491\n",
            "Epoch 4/5\n",
            "562/562 [==============================] - 133s 237ms/step - loss: 0.9272 - accuracy: 0.8427 - val_loss: 0.8962 - val_accuracy: 0.8441\n",
            "Epoch 5/5\n",
            "562/562 [==============================] - 127s 226ms/step - loss: 0.9230 - accuracy: 0.8471 - val_loss: 0.8858 - val_accuracy: 0.8514\n"
          ]
        }
      ]
    },
    {
      "cell_type": "code",
      "metadata": {
        "colab": {
          "base_uri": "https://localhost:8080/",
          "height": 285
        },
        "id": "VeKgPUyjIQyc",
        "outputId": "148e19f8-ed27-45b9-dfc5-7940f7dcfa34"
      },
      "source": [
        "pd.DataFrame(model5_hist.history).plot()"
      ],
      "execution_count": null,
      "outputs": [
        {
          "output_type": "execute_result",
          "data": {
            "text/plain": [
              "<matplotlib.axes._subplots.AxesSubplot at 0x7ff998127b90>"
            ]
          },
          "metadata": {},
          "execution_count": 75
        },
        {
          "output_type": "display_data",
          "data": {
            "image/png": "[encoded data removed]",
            "text/plain": [
              "<Figure size 432x288 with 1 Axes>"
            ]
          },
          "metadata": {}
        }
      ]
    },
    {
      "cell_type": "code",
      "metadata": {
        "colab": {
          "base_uri": "https://localhost:8080/"
        },
        "id": "vRafFCSeITkn",
        "outputId": "b4611543-408d-4a10-9001-91555cb1c25a"
      },
      "source": [
        "model_5.evaluate(val_all_dataset)"
      ],
      "execution_count": null,
      "outputs": [
        {
          "output_type": "stream",
          "name": "stdout",
          "text": [
            "945/945 [==============================] - 92s 97ms/step - loss: 0.8852 - accuracy: 0.8543\n"
          ]
        },
        {
          "output_type": "execute_result",
          "data": {
            "text/plain": [
              "[0.8851575255393982, 0.8542963266372681]"
            ]
          },
          "metadata": {},
          "execution_count": 76
        }
      ]
    },
    {
      "cell_type": "code",
      "metadata": {
        "colab": {
          "base_uri": "https://localhost:8080/"
        },
        "id": "tlsKDH1LJZ6W",
        "outputId": "174bbdcd-cbe5-484e-b4f7-24553b5e4418"
      },
      "source": [
        "# Save it\n",
        "model_5.save(\"skimlit_20k\")"
      ],
      "execution_count": null,
      "outputs": [
        {
          "output_type": "stream",
          "name": "stderr",
          "text": [
            "WARNING:absl:Found untraced functions such as lstm_cell_4_layer_call_and_return_conditional_losses, lstm_cell_4_layer_call_fn, lstm_cell_5_layer_call_and_return_conditional_losses, lstm_cell_5_layer_call_fn, lstm_cell_4_layer_call_fn while saving (showing 5 of 10). These functions will not be directly callable after loading.\n"
          ]
        },
        {
          "output_type": "stream",
          "name": "stdout",
          "text": [
            "INFO:tensorflow:Assets written to: skimlit_20k/assets\n"
          ]
        },
        {
          "output_type": "stream",
          "name": "stderr",
          "text": [
            "INFO:tensorflow:Assets written to: skimlit_20k/assets\n"
          ]
        }
      ]
    },
    {
      "cell_type": "code",
      "metadata": {
        "colab": {
          "base_uri": "https://localhost:8080/",
          "height": 34
        },
        "id": "nHO4ogeiKfKM",
        "outputId": "b34d1c5e-de87-4959-a1ec-12dbbb3d68f1"
      },
      "source": [
        "from google.colab import files\n",
        "files.download('skimlit_20k')"
      ],
      "execution_count": null,
      "outputs": [
        {
          "output_type": "display_data",
          "data": {
            "application/javascript": [
              "\n",
              "    async function download(id, filename, size) {\n",
              "      if (!google.colab.kernel.accessAllowed) {\n",
              "        return;\n",
              "      }\n",
              "      const div = document.createElement('div');\n",
              "      const label = document.createElement('label');\n",
              "      label.textContent = `Downloading \"${filename}\": `;\n",
              "      div.appendChild(label);\n",
              "      const progress = document.createElement('progress');\n",
              "      progress.max = size;\n",
              "      div.appendChild(progress);\n",
              "      document.body.appendChild(div);\n",
              "\n",
              "      const buffers = [];\n",
              "      let downloaded = 0;\n",
              "\n",
              "      const channel = await google.colab.kernel.comms.open(id);\n",
              "      // Send a message to notify the kernel that we're ready.\n",
              "      channel.send({})\n",
              "\n",
              "      for await (const message of channel.messages) {\n",
              "        // Send a message to notify the kernel that we're ready.\n",
              "        channel.send({})\n",
              "        if (message.buffers) {\n",
              "          for (const buffer of message.buffers) {\n",
              "            buffers.push(buffer);\n",
              "            downloaded += buffer.byteLength;\n",
              "            progress.value = downloaded;\n",
              "          }\n",
              "        }\n",
              "      }\n",
              "      const blob = new Blob(buffers, {type: 'application/binary'});\n",
              "      const a = document.createElement('a');\n",
              "      a.href = window.URL.createObjectURL(blob);\n",
              "      a.download = filename;\n",
              "      div.appendChild(a);\n",
              "      a.click();\n",
              "      div.remove();\n",
              "    }\n",
              "  "
            ],
            "text/plain": [
              "<IPython.core.display.Javascript object>"
            ]
          },
          "metadata": {}
        },
        {
          "output_type": "display_data",
          "data": {
            "application/javascript": [
              "download(\"download_e60a0fd6-5506-4199-a2ef-57771e0b7d3f\", \"skimlit_20k\", 4096)"
            ],
            "text/plain": [
              "<IPython.core.display.Javascript object>"
            ]
          },
          "metadata": {}
        }
      ]
    },
    {
      "cell_type": "markdown",
      "metadata": {
        "id": "cJbEEwyZNDVF"
      },
      "source": [
        "# Scale up\n",
        "\n",
        "We're doing the exact same thing but with 200k samples"
      ]
    },
    {
      "cell_type": "code",
      "metadata": {
        "colab": {
          "base_uri": "https://localhost:8080/"
        },
        "id": "ecuRQ8oaNNZ3",
        "outputId": "636c6e1d-5d58-4f85-b42b-c69c0ea50f52"
      },
      "source": [
        "data_dir = \"/content/pubmed-rct/PubMed_200k_RCT_numbers_replaced_with_at_sign/\"\n",
        "filenames = [data_dir + filename for filename in os.listdir(data_dir)]\n",
        "filenames"
      ],
      "execution_count": null,
      "outputs": [
        {
          "output_type": "execute_result",
          "data": {
            "text/plain": [
              "['/content/pubmed-rct/PubMed_200k_RCT_numbers_replaced_with_at_sign/test.txt',\n",
              " '/content/pubmed-rct/PubMed_200k_RCT_numbers_replaced_with_at_sign/dev.txt',\n",
              " '/content/pubmed-rct/PubMed_200k_RCT_numbers_replaced_with_at_sign/train.txt']"
            ]
          },
          "metadata": {},
          "execution_count": 79
        }
      ]
    },
    {
      "cell_type": "code",
      "metadata": {
        "colab": {
          "base_uri": "https://localhost:8080/",
          "height": 359
        },
        "id": "vsXrbP28NZde",
        "outputId": "8ff7594e-82c8-46c8-c35f-e02c55941bcd"
      },
      "source": [
        "train_data = pd.DataFrame(preprocess(filenames[2]))\n",
        "test_data = pd.DataFrame(preprocess(filenames[0]))\n",
        "val_data = pd.DataFrame(preprocess(filenames[1]))\n",
        "train_data[:10]"
      ],
      "execution_count": null,
      "outputs": [
        {
          "output_type": "execute_result",
          "data": {
            "text/html": [
              "<div>\n",
              "<style scoped>\n",
              "    .dataframe tbody tr th:only-of-type {\n",
              "        vertical-align: middle;\n",
              "    }\n",
              "\n",
              "    .dataframe tbody tr th {\n",
              "        vertical-align: top;\n",
              "    }\n",
              "\n",
              "    .dataframe thead th {\n",
              "        text-align: right;\n",
              "    }\n",
              "</style>\n",
              "<table border=\"1\" class=\"dataframe\">\n",
              "  <thead>\n",
              "    <tr style=\"text-align: right;\">\n",
              "      <th></th>\n",
              "      <th>target</th>\n",
              "      <th>text</th>\n",
              "      <th>line</th>\n",
              "      <th>total_lines</th>\n",
              "    </tr>\n",
              "  </thead>\n",
              "  <tbody>\n",
              "    <tr>\n",
              "      <th>0</th>\n",
              "      <td>BACKGROUND</td>\n",
              "      <td>the emergence of hiv as a chronic condition me...</td>\n",
              "      <td>0</td>\n",
              "      <td>10</td>\n",
              "    </tr>\n",
              "    <tr>\n",
              "      <th>1</th>\n",
              "      <td>BACKGROUND</td>\n",
              "      <td>this paper describes the design and evaluation...</td>\n",
              "      <td>1</td>\n",
              "      <td>10</td>\n",
              "    </tr>\n",
              "    <tr>\n",
              "      <th>2</th>\n",
              "      <td>METHODS</td>\n",
              "      <td>this study is designed as a randomised control...</td>\n",
              "      <td>2</td>\n",
              "      <td>10</td>\n",
              "    </tr>\n",
              "    <tr>\n",
              "      <th>3</th>\n",
              "      <td>METHODS</td>\n",
              "      <td>the intervention group will participate in the...</td>\n",
              "      <td>3</td>\n",
              "      <td>10</td>\n",
              "    </tr>\n",
              "    <tr>\n",
              "      <th>4</th>\n",
              "      <td>METHODS</td>\n",
              "      <td>the program is based on self-efficacy theory a...</td>\n",
              "      <td>4</td>\n",
              "      <td>10</td>\n",
              "    </tr>\n",
              "    <tr>\n",
              "      <th>5</th>\n",
              "      <td>METHODS</td>\n",
              "      <td>participants will access the program for a min...</td>\n",
              "      <td>5</td>\n",
              "      <td>10</td>\n",
              "    </tr>\n",
              "    <tr>\n",
              "      <th>6</th>\n",
              "      <td>METHODS</td>\n",
              "      <td>primary outcomes are domain specific self-effi...</td>\n",
              "      <td>6</td>\n",
              "      <td>10</td>\n",
              "    </tr>\n",
              "    <tr>\n",
              "      <th>7</th>\n",
              "      <td>METHODS</td>\n",
              "      <td>secondary outcomes include : depression , anxi...</td>\n",
              "      <td>7</td>\n",
              "      <td>10</td>\n",
              "    </tr>\n",
              "    <tr>\n",
              "      <th>8</th>\n",
              "      <td>METHODS</td>\n",
              "      <td>data collection will take place at baseline , ...</td>\n",
              "      <td>8</td>\n",
              "      <td>10</td>\n",
              "    </tr>\n",
              "    <tr>\n",
              "      <th>9</th>\n",
              "      <td>CONCLUSIONS</td>\n",
              "      <td>results of the positive outlook study will pro...</td>\n",
              "      <td>9</td>\n",
              "      <td>10</td>\n",
              "    </tr>\n",
              "  </tbody>\n",
              "</table>\n",
              "</div>"
            ],
            "text/plain": [
              "        target  ... total_lines\n",
              "0   BACKGROUND  ...          10\n",
              "1   BACKGROUND  ...          10\n",
              "2      METHODS  ...          10\n",
              "3      METHODS  ...          10\n",
              "4      METHODS  ...          10\n",
              "5      METHODS  ...          10\n",
              "6      METHODS  ...          10\n",
              "7      METHODS  ...          10\n",
              "8      METHODS  ...          10\n",
              "9  CONCLUSIONS  ...          10\n",
              "\n",
              "[10 rows x 4 columns]"
            ]
          },
          "metadata": {},
          "execution_count": 80
        }
      ]
    },
    {
      "cell_type": "code",
      "metadata": {
        "colab": {
          "base_uri": "https://localhost:8080/"
        },
        "id": "5f6n7CJCNecM",
        "outputId": "1d4f9fc4-4c58-4820-e847-8a8830890382"
      },
      "source": [
        "len(test_data), len(train_data), len(val_data)"
      ],
      "execution_count": null,
      "outputs": [
        {
          "output_type": "execute_result",
          "data": {
            "text/plain": [
              "(29493, 2211861, 28932)"
            ]
          },
          "metadata": {},
          "execution_count": 81
        }
      ]
    },
    {
      "cell_type": "code",
      "metadata": {
        "id": "8IQkqZE1NjnH"
      },
      "source": [
        "oh = OneHotEncoder(sparse=False)\n",
        "train_labels_oh = oh.fit_transform(train_data[\"target\"].to_numpy().reshape(-1, 1))\n",
        "test_labels_oh = oh.transform(test_data[\"target\"].to_numpy().reshape(-1, 1))\n",
        "val_labels_oh = oh.transform(val_data[\"target\"].to_numpy().reshape(-1, 1))"
      ],
      "execution_count": null,
      "outputs": []
    },
    {
      "cell_type": "code",
      "metadata": {
        "colab": {
          "base_uri": "https://localhost:8080/"
        },
        "id": "GeLYGeFmNrjA",
        "outputId": "ac636946-6243-45fd-df5f-b99e9e33f2bd"
      },
      "source": [
        "train_line_number_oh = tf.one_hot(train_data[\"line\"],depth=20)\n",
        "test_line_number_oh = tf.one_hot(test_data[\"line\"],depth=20)\n",
        "val_line_number_oh = tf.one_hot(val_data[\"line\"],depth=20)\n",
        "train_line_number_oh[:5]"
      ],
      "execution_count": null,
      "outputs": [
        {
          "output_type": "execute_result",
          "data": {
            "text/plain": [
              "<tf.Tensor: shape=(5, 20), dtype=float32, numpy=\n",
              "array([[1., 0., 0., 0., 0., 0., 0., 0., 0., 0., 0., 0., 0., 0., 0., 0.,\n",
              "        0., 0., 0., 0.],\n",
              "       [0., 1., 0., 0., 0., 0., 0., 0., 0., 0., 0., 0., 0., 0., 0., 0.,\n",
              "        0., 0., 0., 0.],\n",
              "       [0., 0., 1., 0., 0., 0., 0., 0., 0., 0., 0., 0., 0., 0., 0., 0.,\n",
              "        0., 0., 0., 0.],\n",
              "       [0., 0., 0., 1., 0., 0., 0., 0., 0., 0., 0., 0., 0., 0., 0., 0.,\n",
              "        0., 0., 0., 0.],\n",
              "       [0., 0., 0., 0., 1., 0., 0., 0., 0., 0., 0., 0., 0., 0., 0., 0.,\n",
              "        0., 0., 0., 0.]], dtype=float32)>"
            ]
          },
          "metadata": {},
          "execution_count": 83
        }
      ]
    },
    {
      "cell_type": "code",
      "metadata": {
        "id": "s9Tcq36pOzRI"
      },
      "source": [
        "train_line_total_oh = tf.one_hot(train_data[\"total_lines\"],depth=20)\n",
        "test_line_total_oh = tf.one_hot(test_data[\"total_lines\"],depth=20)\n",
        "val_line_total_oh = tf.one_hot(val_data[\"total_lines\"],depth=20)"
      ],
      "execution_count": null,
      "outputs": []
    },
    {
      "cell_type": "code",
      "metadata": {
        "id": "uemliJOKPZTR"
      },
      "source": [
        "train_chars = [split_char(sentence) for sentence in train_data[\"text\"]]\n",
        "val_chars = [split_char(sentence) for sentence in val_data[\"text\"]]\n",
        "test_chars = [split_char(sentence) for sentence in test_data[\"text\"]]"
      ],
      "execution_count": null,
      "outputs": []
    },
    {
      "cell_type": "code",
      "metadata": {
        "colab": {
          "base_uri": "https://localhost:8080/"
        },
        "id": "NVGWXVVbOplm",
        "outputId": "1f5ec027-fb66-4318-dda6-e91eef7b74df"
      },
      "source": [
        "train_all_data = tf.data.Dataset.from_tensor_slices((train_data[\"text\"],train_chars,train_line_number_oh,train_line_total_oh))\n",
        "train_all_labels = tf.data.Dataset.from_tensor_slices(train_labels_oh)\n",
        "train_all_dataset = tf.data.Dataset.zip((train_all_data,train_all_labels)).batch(32).prefetch(tf.data.AUTOTUNE)\n",
        "\n",
        "val_all_data = tf.data.Dataset.from_tensor_slices((val_data[\"text\"],val_chars,val_line_number_oh,val_line_total_oh))\n",
        "val_all_labels = tf.data.Dataset.from_tensor_slices(val_labels_oh)\n",
        "val_all_dataset = tf.data.Dataset.zip((val_all_data,val_all_labels)).batch(32).prefetch(tf.data.AUTOTUNE)\n",
        "\n",
        "test_all_data = tf.data.Dataset.from_tensor_slices((test_data[\"text\"],test_chars,test_line_number_oh,test_line_total_oh))\n",
        "test_all_labels = tf.data.Dataset.from_tensor_slices(test_labels_oh)\n",
        "test_all_dataset = tf.data.Dataset.zip((test_all_data,test_all_labels)).batch(32).prefetch(tf.data.AUTOTUNE)\n",
        "\n",
        "train_all_dataset"
      ],
      "execution_count": null,
      "outputs": [
        {
          "output_type": "execute_result",
          "data": {
            "text/plain": [
              "<PrefetchDataset shapes: (((None,), (None,), (None, 20), (None, 20)), (None, 5)), types: ((tf.string, tf.string, tf.float32, tf.float32), tf.float64)>"
            ]
          },
          "metadata": {},
          "execution_count": 86
        }
      ]
    },
    {
      "cell_type": "code",
      "metadata": {
        "id": "EM-qhxp3Pwy3"
      },
      "source": [
        "# Build a thribrid model\n",
        "\n",
        "# Token model\n",
        "token_inputs = layers.Input(shape=[],dtype=tf.string,name=\"token_inputs\")\n",
        "token_emb = hub_emb_layer(token_inputs)\n",
        "token_outputs = layers.Dense(128,activation=\"relu\")(token_emb)\n",
        "token_model = tf.keras.Model(token_inputs,token_outputs)\n",
        "\n",
        "# Char model\n",
        "char_inputs = layers.Input(shape=(1,),dtype=tf.string,name=\"char_input\")\n",
        "char_vec = char_vectorizer(char_inputs)\n",
        "char_em = char_emb(char_vec)\n",
        "char_bi_lstm = layers.Bidirectional(layers.LSTM(24))(char_em)\n",
        "char_model = tf.keras.Model(char_inputs,char_bi_lstm)\n",
        "\n",
        "# Concatenate\n",
        "token_char_concat = layers.Concatenate(name=\"token_char_hybrid\")([token_model.output,\n",
        "                                                                  char_model.output])\n",
        "z = layers.Dense(256,activation=\"relu\")(token_char_concat)\n",
        "z = layers.Dropout(0.5)(z)\n",
        "\n",
        "# Line number model\n",
        "line_number_inputs = layers.Input(shape=(20,),dtype=tf.float32, name=\"line_number_input\")\n",
        "x = layers.Dense(32, activation=\"relu\")(line_number_inputs)\n",
        "line_number_model = tf.keras.Model(line_number_inputs,x)\n",
        "\n",
        "# Total line model\n",
        "total_lines_inputs = layers.Input(shape=(20,),dtype=tf.float32, name=\"total_line_input\")\n",
        "y = layers.Dense(32, activation=\"relu\")(total_lines_inputs)\n",
        "total_lines_model = tf.keras.Model(total_lines_inputs,y)\n",
        "\n",
        "# Concatenate\n",
        "tribrid_emb = layers.Concatenate(name=\"tribrid_emb\")([z,\n",
        "                                                      line_number_model.output,\n",
        "                                                      total_lines_model.output])\n",
        "\n",
        "# Output layers\n",
        "a = layers.Dense(128,activation=\"relu\")(tribrid_emb)\n",
        "a = layers.Dropout(0.5)(a)\n",
        "output_layer = layers.Dense(5,activation=\"softmax\",name=\"output_layer\")(a)\n",
        "\n",
        "final_model = tf.keras.Model(inputs=[token_model.input,\n",
        "                                 char_model.input,\n",
        "                                 line_number_model.input,\n",
        "                                 total_lines_model.input],\n",
        "                         outputs=output_layer)"
      ],
      "execution_count": null,
      "outputs": []
    },
    {
      "cell_type": "code",
      "metadata": {
        "id": "LKEotPSBP0GF"
      },
      "source": [
        "final_model.compile(loss=tf.keras.losses.CategoricalCrossentropy(label_smoothing=0.2),\n",
        "                optimizer=\"Adam\",\n",
        "                metrics=\"accuracy\")"
      ],
      "execution_count": null,
      "outputs": []
    },
    {
      "cell_type": "code",
      "metadata": {
        "id": "foqgNCQOQJV5"
      },
      "source": [
        "callback = tf.keras.callbacks.EarlyStopping(monitor='val_loss', patience=7)"
      ],
      "execution_count": null,
      "outputs": []
    },
    {
      "cell_type": "code",
      "metadata": {
        "colab": {
          "base_uri": "https://localhost:8080/"
        },
        "id": "4OqGDPplP4F8",
        "outputId": "17bbc1f0-d86f-4387-b227-a6b0b11bde1c"
      },
      "source": [
        "final_model.fit(train_all_dataset,\n",
        "                          epochs=100,\n",
        "                          steps_per_epoch= int(0.01*len(train_all_dataset)),\n",
        "                          validation_data=val_all_dataset,\n",
        "                          validation_steps= int(0.01*len(val_all_dataset)),\n",
        "                          callbacks=[callback])"
      ],
      "execution_count": null,
      "outputs": [
        {
          "output_type": "stream",
          "name": "stdout",
          "text": [
            "Epoch 1/100\n",
            "691/691 [==============================] - 143s 207ms/step - loss: 1.0447 - accuracy: 0.7616 - val_loss: 0.9232 - val_accuracy: 0.8264\n",
            "Epoch 2/100\n",
            "691/691 [==============================] - 153s 222ms/step - loss: 0.9551 - accuracy: 0.8209 - val_loss: 0.8764 - val_accuracy: 0.8507\n",
            "Epoch 3/100\n",
            "691/691 [==============================] - 151s 218ms/step - loss: 0.9341 - accuracy: 0.8365 - val_loss: 0.8724 - val_accuracy: 0.8819\n",
            "Epoch 4/100\n",
            "691/691 [==============================] - 168s 243ms/step - loss: 0.9169 - accuracy: 0.8417 - val_loss: 0.8632 - val_accuracy: 0.8715\n",
            "Epoch 5/100\n",
            "691/691 [==============================] - 145s 209ms/step - loss: 0.9155 - accuracy: 0.8456 - val_loss: 0.8480 - val_accuracy: 0.8715\n",
            "Epoch 6/100\n",
            "691/691 [==============================] - 149s 215ms/step - loss: 0.9091 - accuracy: 0.8507 - val_loss: 0.8420 - val_accuracy: 0.8819\n",
            "Epoch 7/100\n",
            "691/691 [==============================] - 137s 198ms/step - loss: 0.9034 - accuracy: 0.8564 - val_loss: 0.8541 - val_accuracy: 0.8646\n",
            "Epoch 8/100\n",
            "691/691 [==============================] - 152s 220ms/step - loss: 0.9130 - accuracy: 0.8469 - val_loss: 0.8469 - val_accuracy: 0.8681\n",
            "Epoch 9/100\n",
            "691/691 [==============================] - 138s 199ms/step - loss: 0.8997 - accuracy: 0.8581 - val_loss: 0.8403 - val_accuracy: 0.8750\n",
            "Epoch 10/100\n",
            "691/691 [==============================] - 160s 231ms/step - loss: 0.8960 - accuracy: 0.8605 - val_loss: 0.8449 - val_accuracy: 0.8681\n",
            "Epoch 11/100\n",
            "691/691 [==============================] - 145s 210ms/step - loss: 0.9023 - accuracy: 0.8538 - val_loss: 0.8506 - val_accuracy: 0.8785\n",
            "Epoch 12/100\n",
            "691/691 [==============================] - 162s 234ms/step - loss: 0.8911 - accuracy: 0.8624 - val_loss: 0.8411 - val_accuracy: 0.8750\n",
            "Epoch 13/100\n",
            "691/691 [==============================] - 149s 215ms/step - loss: 0.8835 - accuracy: 0.8680 - val_loss: 0.8371 - val_accuracy: 0.8715\n",
            "Epoch 14/100\n",
            "691/691 [==============================] - 157s 227ms/step - loss: 0.8934 - accuracy: 0.8621 - val_loss: 0.8485 - val_accuracy: 0.8785\n",
            "Epoch 15/100\n",
            "691/691 [==============================] - 150s 217ms/step - loss: 0.9023 - accuracy: 0.8517 - val_loss: 0.8365 - val_accuracy: 0.8785\n",
            "Epoch 16/100\n",
            "691/691 [==============================] - 141s 204ms/step - loss: 0.8961 - accuracy: 0.8570 - val_loss: 0.8276 - val_accuracy: 0.8750\n",
            "Epoch 17/100\n",
            "691/691 [==============================] - 151s 219ms/step - loss: 0.8877 - accuracy: 0.8638 - val_loss: 0.8276 - val_accuracy: 0.8854\n",
            "Epoch 18/100\n",
            "691/691 [==============================] - 146s 211ms/step - loss: 0.8909 - accuracy: 0.8628 - val_loss: 0.8339 - val_accuracy: 0.8750\n",
            "Epoch 19/100\n",
            "691/691 [==============================] - 136s 197ms/step - loss: 0.8873 - accuracy: 0.8646 - val_loss: 0.8354 - val_accuracy: 0.8819\n",
            "Epoch 20/100\n",
            "691/691 [==============================] - 143s 207ms/step - loss: 0.8903 - accuracy: 0.8622 - val_loss: 0.8356 - val_accuracy: 0.8646\n",
            "Epoch 21/100\n",
            "691/691 [==============================] - 153s 221ms/step - loss: 0.8875 - accuracy: 0.8638 - val_loss: 0.8421 - val_accuracy: 0.8576\n",
            "Epoch 22/100\n",
            "691/691 [==============================] - 149s 215ms/step - loss: 0.8892 - accuracy: 0.8624 - val_loss: 0.8289 - val_accuracy: 0.8889\n",
            "Epoch 23/100\n",
            "691/691 [==============================] - 156s 226ms/step - loss: 0.8939 - accuracy: 0.8588 - val_loss: 0.8224 - val_accuracy: 0.8889\n",
            "Epoch 24/100\n",
            "691/691 [==============================] - 140s 202ms/step - loss: 0.8862 - accuracy: 0.8656 - val_loss: 0.8284 - val_accuracy: 0.8924\n",
            "Epoch 25/100\n",
            "691/691 [==============================] - 141s 204ms/step - loss: 0.8887 - accuracy: 0.8636 - val_loss: 0.8308 - val_accuracy: 0.8854\n",
            "Epoch 26/100\n",
            "691/691 [==============================] - 146s 211ms/step - loss: 0.8887 - accuracy: 0.8635 - val_loss: 0.8252 - val_accuracy: 0.8889\n",
            "Epoch 27/100\n",
            "691/691 [==============================] - 150s 218ms/step - loss: 0.8847 - accuracy: 0.8674 - val_loss: 0.8188 - val_accuracy: 0.8924\n",
            "Epoch 28/100\n",
            "691/691 [==============================] - 148s 214ms/step - loss: 0.8851 - accuracy: 0.8633 - val_loss: 0.8370 - val_accuracy: 0.8924\n",
            "Epoch 29/100\n",
            "691/691 [==============================] - 150s 217ms/step - loss: 0.8845 - accuracy: 0.8649 - val_loss: 0.8329 - val_accuracy: 0.8854\n",
            "Epoch 30/100\n",
            "691/691 [==============================] - 150s 218ms/step - loss: 0.8849 - accuracy: 0.8663 - val_loss: 0.8366 - val_accuracy: 0.8854\n",
            "Epoch 31/100\n",
            "691/691 [==============================] - 151s 218ms/step - loss: 0.8872 - accuracy: 0.8645 - val_loss: 0.8371 - val_accuracy: 0.8715\n",
            "Epoch 32/100\n",
            "691/691 [==============================] - 146s 211ms/step - loss: 0.8779 - accuracy: 0.8693 - val_loss: 0.8259 - val_accuracy: 0.8681\n",
            "Epoch 33/100\n",
            "691/691 [==============================] - 142s 206ms/step - loss: 0.8792 - accuracy: 0.8701 - val_loss: 0.8279 - val_accuracy: 0.8924\n",
            "Epoch 34/100\n",
            "691/691 [==============================] - 134s 194ms/step - loss: 0.8764 - accuracy: 0.8706 - val_loss: 0.8283 - val_accuracy: 0.8819\n"
          ]
        },
        {
          "output_type": "execute_result",
          "data": {
            "text/plain": [
              "<keras.callbacks.History at 0x7ffaf91589d0>"
            ]
          },
          "metadata": {},
          "execution_count": 90
        }
      ]
    },
    {
      "cell_type": "code",
      "metadata": {
        "id": "S4iTgXfwQ3Xz",
        "colab": {
          "base_uri": "https://localhost:8080/",
          "height": 306
        },
        "outputId": "0ed9fdb5-fea5-4120-d85f-95759f0e00bf"
      },
      "source": [
        "final_model.save(\"/content/drive/MyDrive/test tf/nlp/final_model_200.h5\",save_format='tf')"
      ],
      "execution_count": null,
      "outputs": [
        {
          "output_type": "error",
          "ename": "NotImplementedError",
          "evalue": "ignored",
          "traceback": [
            "\u001b[0;31m---------------------------------------------------------------------------\u001b[0m",
            "\u001b[0;31mNotImplementedError\u001b[0m                       Traceback (most recent call last)",
            "\u001b[0;32m<ipython-input-101-1dc6937d66ba>\u001b[0m in \u001b[0;36m<module>\u001b[0;34m()\u001b[0m\n\u001b[0;32m----> 1\u001b[0;31m \u001b[0mfinal_model\u001b[0m\u001b[0;34m.\u001b[0m\u001b[0msave\u001b[0m\u001b[0;34m(\u001b[0m\u001b[0;34m\"/content/drive/MyDrive/test tf/nlp/final_model_200.h5\"\u001b[0m\u001b[0;34m,\u001b[0m\u001b[0msave_format\u001b[0m\u001b[0;34m=\u001b[0m\u001b[0;34m'tf'\u001b[0m\u001b[0;34m)\u001b[0m\u001b[0;34m\u001b[0m\u001b[0;34m\u001b[0m\u001b[0m\n\u001b[0m",
            "\u001b[0;32m/usr/local/lib/python3.7/dist-packages/keras/engine/training.py\u001b[0m in \u001b[0;36msave\u001b[0;34m(self, filepath, overwrite, include_optimizer, save_format, signatures, options, save_traces)\u001b[0m\n\u001b[1;32m   2144\u001b[0m     \u001b[0;31m# pylint: enable=line-too-long\u001b[0m\u001b[0;34m\u001b[0m\u001b[0;34m\u001b[0m\u001b[0;34m\u001b[0m\u001b[0m\n\u001b[1;32m   2145\u001b[0m     save.save_model(self, filepath, overwrite, include_optimizer, save_format,\n\u001b[0;32m-> 2146\u001b[0;31m                     signatures, options, save_traces)\n\u001b[0m\u001b[1;32m   2147\u001b[0m \u001b[0;34m\u001b[0m\u001b[0m\n\u001b[1;32m   2148\u001b[0m   def save_weights(self,\n",
            "\u001b[0;32m/usr/local/lib/python3.7/dist-packages/keras/saving/save.py\u001b[0m in \u001b[0;36msave_model\u001b[0;34m(model, filepath, overwrite, include_optimizer, save_format, signatures, options, save_traces)\u001b[0m\n\u001b[1;32m    144\u001b[0m           'or using `save_weights`.')\n\u001b[1;32m    145\u001b[0m     hdf5_format.save_model_to_hdf5(\n\u001b[0;32m--> 146\u001b[0;31m         model, filepath, overwrite, include_optimizer)\n\u001b[0m\u001b[1;32m    147\u001b[0m   \u001b[0;32melse\u001b[0m\u001b[0;34m:\u001b[0m\u001b[0;34m\u001b[0m\u001b[0;34m\u001b[0m\u001b[0m\n\u001b[1;32m    148\u001b[0m     \u001b[0;32mwith\u001b[0m \u001b[0mgeneric_utils\u001b[0m\u001b[0;34m.\u001b[0m\u001b[0mSharedObjectSavingScope\u001b[0m\u001b[0;34m(\u001b[0m\u001b[0;34m)\u001b[0m\u001b[0;34m:\u001b[0m\u001b[0;34m\u001b[0m\u001b[0;34m\u001b[0m\u001b[0m\n",
            "\u001b[0;32m/usr/local/lib/python3.7/dist-packages/keras/saving/hdf5_format.py\u001b[0m in \u001b[0;36msave_model_to_hdf5\u001b[0;34m(model, filepath, overwrite, include_optimizer)\u001b[0m\n\u001b[1;32m    118\u001b[0m     \u001b[0mmodel_weights_group\u001b[0m \u001b[0;34m=\u001b[0m \u001b[0mf\u001b[0m\u001b[0;34m.\u001b[0m\u001b[0mcreate_group\u001b[0m\u001b[0;34m(\u001b[0m\u001b[0;34m'model_weights'\u001b[0m\u001b[0;34m)\u001b[0m\u001b[0;34m\u001b[0m\u001b[0;34m\u001b[0m\u001b[0m\n\u001b[1;32m    119\u001b[0m     \u001b[0mmodel_layers\u001b[0m \u001b[0;34m=\u001b[0m \u001b[0mmodel\u001b[0m\u001b[0;34m.\u001b[0m\u001b[0mlayers\u001b[0m\u001b[0;34m\u001b[0m\u001b[0;34m\u001b[0m\u001b[0m\n\u001b[0;32m--> 120\u001b[0;31m     \u001b[0msave_weights_to_hdf5_group\u001b[0m\u001b[0;34m(\u001b[0m\u001b[0mmodel_weights_group\u001b[0m\u001b[0;34m,\u001b[0m \u001b[0mmodel_layers\u001b[0m\u001b[0;34m)\u001b[0m\u001b[0;34m\u001b[0m\u001b[0;34m\u001b[0m\u001b[0m\n\u001b[0m\u001b[1;32m    121\u001b[0m \u001b[0;34m\u001b[0m\u001b[0m\n\u001b[1;32m    122\u001b[0m     \u001b[0;31m# TODO(b/128683857): Add integration tests between tf.keras and external\u001b[0m\u001b[0;34m\u001b[0m\u001b[0;34m\u001b[0m\u001b[0;34m\u001b[0m\u001b[0m\n",
            "\u001b[0;32m/usr/local/lib/python3.7/dist-packages/keras/saving/hdf5_format.py\u001b[0m in \u001b[0;36msave_weights_to_hdf5_group\u001b[0;34m(f, layers)\u001b[0m\n\u001b[1;32m    634\u001b[0m   \u001b[0;32mfor\u001b[0m \u001b[0mlayer\u001b[0m \u001b[0;32min\u001b[0m \u001b[0msorted\u001b[0m\u001b[0;34m(\u001b[0m\u001b[0mlayers\u001b[0m\u001b[0;34m,\u001b[0m \u001b[0mkey\u001b[0m\u001b[0;34m=\u001b[0m\u001b[0;32mlambda\u001b[0m \u001b[0mx\u001b[0m\u001b[0;34m:\u001b[0m \u001b[0mx\u001b[0m\u001b[0;34m.\u001b[0m\u001b[0mname\u001b[0m\u001b[0;34m)\u001b[0m\u001b[0;34m:\u001b[0m\u001b[0;34m\u001b[0m\u001b[0;34m\u001b[0m\u001b[0m\n\u001b[1;32m    635\u001b[0m     \u001b[0mg\u001b[0m \u001b[0;34m=\u001b[0m \u001b[0mf\u001b[0m\u001b[0;34m.\u001b[0m\u001b[0mcreate_group\u001b[0m\u001b[0;34m(\u001b[0m\u001b[0mlayer\u001b[0m\u001b[0;34m.\u001b[0m\u001b[0mname\u001b[0m\u001b[0;34m)\u001b[0m\u001b[0;34m\u001b[0m\u001b[0;34m\u001b[0m\u001b[0m\n\u001b[0;32m--> 636\u001b[0;31m     \u001b[0mweights\u001b[0m \u001b[0;34m=\u001b[0m \u001b[0m_legacy_weights\u001b[0m\u001b[0;34m(\u001b[0m\u001b[0mlayer\u001b[0m\u001b[0;34m)\u001b[0m\u001b[0;34m\u001b[0m\u001b[0;34m\u001b[0m\u001b[0m\n\u001b[0m\u001b[1;32m    637\u001b[0m     \u001b[0mweight_values\u001b[0m \u001b[0;34m=\u001b[0m \u001b[0mbackend\u001b[0m\u001b[0;34m.\u001b[0m\u001b[0mbatch_get_value\u001b[0m\u001b[0;34m(\u001b[0m\u001b[0mweights\u001b[0m\u001b[0;34m)\u001b[0m\u001b[0;34m\u001b[0m\u001b[0;34m\u001b[0m\u001b[0m\n\u001b[1;32m    638\u001b[0m     \u001b[0mweight_names\u001b[0m \u001b[0;34m=\u001b[0m \u001b[0;34m[\u001b[0m\u001b[0mw\u001b[0m\u001b[0;34m.\u001b[0m\u001b[0mname\u001b[0m\u001b[0;34m.\u001b[0m\u001b[0mencode\u001b[0m\u001b[0;34m(\u001b[0m\u001b[0;34m'utf8'\u001b[0m\u001b[0;34m)\u001b[0m \u001b[0;32mfor\u001b[0m \u001b[0mw\u001b[0m \u001b[0;32min\u001b[0m \u001b[0mweights\u001b[0m\u001b[0;34m]\u001b[0m\u001b[0;34m\u001b[0m\u001b[0;34m\u001b[0m\u001b[0m\n",
            "\u001b[0;32m/usr/local/lib/python3.7/dist-packages/keras/saving/hdf5_format.py\u001b[0m in \u001b[0;36m_legacy_weights\u001b[0;34m(layer)\u001b[0m\n\u001b[1;32m    896\u001b[0m         \u001b[0;34m'Save or restore weights that is not an instance of `tf.Variable` is '\u001b[0m\u001b[0;34m\u001b[0m\u001b[0;34m\u001b[0m\u001b[0m\n\u001b[1;32m    897\u001b[0m         \u001b[0;34m'not supported in h5, use `save_format=\\'tf\\'` instead. Got a model '\u001b[0m\u001b[0;34m\u001b[0m\u001b[0;34m\u001b[0m\u001b[0m\n\u001b[0;32m--> 898\u001b[0;31m         'or layer {} with weights {}'.format(layer.__class__.__name__, weights))\n\u001b[0m\u001b[1;32m    899\u001b[0m   \u001b[0;32mreturn\u001b[0m \u001b[0mweights\u001b[0m\u001b[0;34m\u001b[0m\u001b[0;34m\u001b[0m\u001b[0m\n",
            "\u001b[0;31mNotImplementedError\u001b[0m: Save or restore weights that is not an instance of `tf.Variable` is not supported in h5, use `save_format='tf'` instead. Got a model or layer TextVectorization with weights [<keras.layers.preprocessing.index_lookup.VocabWeightHandler object at 0x7ff9abde4dd0>]"
          ]
        }
      ]
    },
    {
      "cell_type": "code",
      "metadata": {
        "colab": {
          "base_uri": "https://localhost:8080/"
        },
        "id": "3OcWKzWx45B4",
        "outputId": "677443fa-2505-4c79-e299-54a1ad7ddd32"
      },
      "source": [
        "!tensorflowjs_converter --input_format=keras \"/content/drive/MyDrive/testtf/nlp/final_model_200.h5\" \"/content/drive/MyDrive/testtf/nlp/js\""
      ],
      "execution_count": null,
      "outputs": [
        {
          "output_type": "stream",
          "name": "stdout",
          "text": [
            "tcmalloc: large alloc 1277771776 bytes == 0x56143b078000 @  0x7fae55a49615 0x5613f4e484cc 0x5613f4f2847a 0x5613f4f60793 0x5613f4e4c3ce 0x5613f4e4e698 0x5613f4fc6f5a 0x5613f4f293b2 0x5613f4e4b2ed 0x5613f4f3ce1d 0x5613f4ebee99 0x5613f4e4cafa 0x5613f4eba915 0x5613f4eb9ced 0x5613f4e4cbda 0x5613f4ebb737 0x5613f4eb99ee 0x5613f4e4cbda 0x5613f4ebb737 0x5613f4eb99ee 0x5613f4e4cbda 0x5613f4ebb737 0x5613f4e4cafa 0x5613f4eba915 0x5613f4e4cafa 0x5613f4eba915 0x5613f4e4cafa 0x5613f4eba915 0x5613f4e4cafa 0x5613f4eba915 0x5613f4eb99ee\n"
          ]
        }
      ]
    },
    {
      "cell_type": "code",
      "metadata": {
        "colab": {
          "base_uri": "https://localhost:8080/"
        },
        "id": "oeD5OaOc7Qmr",
        "outputId": "4259ea4e-a090-4171-f42f-839a64b28686"
      },
      "source": [
        "!ls /content/drive/MyDrive/testtf/nlp/js"
      ],
      "execution_count": null,
      "outputs": [
        {
          "output_type": "stream",
          "name": "stdout",
          "text": [
            "group1-shard100of246.bin  group1-shard176of246.bin  group1-shard28of246.bin\n",
            "group1-shard101of246.bin  group1-shard177of246.bin  group1-shard29of246.bin\n",
            "group1-shard102of246.bin  group1-shard178of246.bin  group1-shard2of246.bin\n",
            "group1-shard103of246.bin  group1-shard179of246.bin  group1-shard30of246.bin\n",
            "group1-shard104of246.bin  group1-shard17of246.bin   group1-shard31of246.bin\n",
            "group1-shard105of246.bin  group1-shard180of246.bin  group1-shard32of246.bin\n",
            "group1-shard106of246.bin  group1-shard181of246.bin  group1-shard33of246.bin\n",
            "group1-shard107of246.bin  group1-shard182of246.bin  group1-shard34of246.bin\n",
            "group1-shard108of246.bin  group1-shard183of246.bin  group1-shard35of246.bin\n",
            "group1-shard109of246.bin  group1-shard184of246.bin  group1-shard36of246.bin\n",
            "group1-shard10of246.bin   group1-shard185of246.bin  group1-shard37of246.bin\n",
            "group1-shard110of246.bin  group1-shard186of246.bin  group1-shard38of246.bin\n",
            "group1-shard111of246.bin  group1-shard187of246.bin  group1-shard39of246.bin\n",
            "group1-shard112of246.bin  group1-shard188of246.bin  group1-shard3of246.bin\n",
            "group1-shard113of246.bin  group1-shard189of246.bin  group1-shard40of246.bin\n",
            "group1-shard114of246.bin  group1-shard18of246.bin   group1-shard41of246.bin\n",
            "group1-shard115of246.bin  group1-shard190of246.bin  group1-shard42of246.bin\n",
            "group1-shard116of246.bin  group1-shard191of246.bin  group1-shard43of246.bin\n",
            "group1-shard117of246.bin  group1-shard192of246.bin  group1-shard44of246.bin\n",
            "group1-shard118of246.bin  group1-shard193of246.bin  group1-shard45of246.bin\n",
            "group1-shard119of246.bin  group1-shard194of246.bin  group1-shard46of246.bin\n",
            "group1-shard11of246.bin   group1-shard195of246.bin  group1-shard47of246.bin\n",
            "group1-shard120of246.bin  group1-shard196of246.bin  group1-shard48of246.bin\n",
            "group1-shard121of246.bin  group1-shard197of246.bin  group1-shard49of246.bin\n",
            "group1-shard122of246.bin  group1-shard198of246.bin  group1-shard4of246.bin\n",
            "group1-shard123of246.bin  group1-shard199of246.bin  group1-shard50of246.bin\n",
            "group1-shard124of246.bin  group1-shard19of246.bin   group1-shard51of246.bin\n",
            "group1-shard125of246.bin  group1-shard1of246.bin    group1-shard52of246.bin\n",
            "group1-shard126of246.bin  group1-shard200of246.bin  group1-shard53of246.bin\n",
            "group1-shard127of246.bin  group1-shard201of246.bin  group1-shard54of246.bin\n",
            "group1-shard128of246.bin  group1-shard202of246.bin  group1-shard55of246.bin\n",
            "group1-shard129of246.bin  group1-shard203of246.bin  group1-shard56of246.bin\n",
            "group1-shard12of246.bin   group1-shard204of246.bin  group1-shard57of246.bin\n",
            "group1-shard130of246.bin  group1-shard205of246.bin  group1-shard58of246.bin\n",
            "group1-shard131of246.bin  group1-shard206of246.bin  group1-shard59of246.bin\n",
            "group1-shard132of246.bin  group1-shard207of246.bin  group1-shard5of246.bin\n",
            "group1-shard133of246.bin  group1-shard208of246.bin  group1-shard60of246.bin\n",
            "group1-shard134of246.bin  group1-shard209of246.bin  group1-shard61of246.bin\n",
            "group1-shard135of246.bin  group1-shard20of246.bin   group1-shard62of246.bin\n",
            "group1-shard136of246.bin  group1-shard210of246.bin  group1-shard63of246.bin\n",
            "group1-shard137of246.bin  group1-shard211of246.bin  group1-shard64of246.bin\n",
            "group1-shard138of246.bin  group1-shard212of246.bin  group1-shard65of246.bin\n",
            "group1-shard139of246.bin  group1-shard213of246.bin  group1-shard66of246.bin\n",
            "group1-shard13of246.bin   group1-shard214of246.bin  group1-shard67of246.bin\n",
            "group1-shard140of246.bin  group1-shard215of246.bin  group1-shard68of246.bin\n",
            "group1-shard141of246.bin  group1-shard216of246.bin  group1-shard69of246.bin\n",
            "group1-shard142of246.bin  group1-shard217of246.bin  group1-shard6of246.bin\n",
            "group1-shard143of246.bin  group1-shard218of246.bin  group1-shard70of246.bin\n",
            "group1-shard144of246.bin  group1-shard219of246.bin  group1-shard71of246.bin\n",
            "group1-shard145of246.bin  group1-shard21of246.bin   group1-shard72of246.bin\n",
            "group1-shard146of246.bin  group1-shard220of246.bin  group1-shard73of246.bin\n",
            "group1-shard147of246.bin  group1-shard221of246.bin  group1-shard74of246.bin\n",
            "group1-shard148of246.bin  group1-shard222of246.bin  group1-shard75of246.bin\n",
            "group1-shard149of246.bin  group1-shard223of246.bin  group1-shard76of246.bin\n",
            "group1-shard14of246.bin   group1-shard224of246.bin  group1-shard77of246.bin\n",
            "group1-shard150of246.bin  group1-shard225of246.bin  group1-shard78of246.bin\n",
            "group1-shard151of246.bin  group1-shard226of246.bin  group1-shard79of246.bin\n",
            "group1-shard152of246.bin  group1-shard227of246.bin  group1-shard7of246.bin\n",
            "group1-shard153of246.bin  group1-shard228of246.bin  group1-shard80of246.bin\n",
            "group1-shard154of246.bin  group1-shard229of246.bin  group1-shard81of246.bin\n",
            "group1-shard155of246.bin  group1-shard22of246.bin   group1-shard82of246.bin\n",
            "group1-shard156of246.bin  group1-shard230of246.bin  group1-shard83of246.bin\n",
            "group1-shard157of246.bin  group1-shard231of246.bin  group1-shard84of246.bin\n",
            "group1-shard158of246.bin  group1-shard232of246.bin  group1-shard85of246.bin\n",
            "group1-shard159of246.bin  group1-shard233of246.bin  group1-shard86of246.bin\n",
            "group1-shard15of246.bin   group1-shard234of246.bin  group1-shard87of246.bin\n",
            "group1-shard160of246.bin  group1-shard235of246.bin  group1-shard88of246.bin\n",
            "group1-shard161of246.bin  group1-shard236of246.bin  group1-shard89of246.bin\n",
            "group1-shard162of246.bin  group1-shard237of246.bin  group1-shard8of246.bin\n",
            "group1-shard163of246.bin  group1-shard238of246.bin  group1-shard90of246.bin\n",
            "group1-shard164of246.bin  group1-shard239of246.bin  group1-shard91of246.bin\n",
            "group1-shard165of246.bin  group1-shard23of246.bin   group1-shard92of246.bin\n",
            "group1-shard166of246.bin  group1-shard240of246.bin  group1-shard93of246.bin\n",
            "group1-shard167of246.bin  group1-shard241of246.bin  group1-shard94of246.bin\n",
            "group1-shard168of246.bin  group1-shard242of246.bin  group1-shard95of246.bin\n",
            "group1-shard169of246.bin  group1-shard243of246.bin  group1-shard96of246.bin\n",
            "group1-shard16of246.bin   group1-shard244of246.bin  group1-shard97of246.bin\n",
            "group1-shard170of246.bin  group1-shard245of246.bin  group1-shard98of246.bin\n",
            "group1-shard171of246.bin  group1-shard246of246.bin  group1-shard99of246.bin\n",
            "group1-shard172of246.bin  group1-shard24of246.bin   group1-shard9of246.bin\n",
            "group1-shard173of246.bin  group1-shard25of246.bin   model.json\n",
            "group1-shard174of246.bin  group1-shard26of246.bin\n",
            "group1-shard175of246.bin  group1-shard27of246.bin\n"
          ]
        }
      ]
    },
    {
      "cell_type": "code",
      "metadata": {
        "colab": {
          "base_uri": "https://localhost:8080/"
        },
        "id": "hQy3mQc42JNe",
        "outputId": "3122a344-d510-4334-e40a-f8981b0a7997"
      },
      "source": [
        "!zip -r /content/drive/MyDrive/testtf/nlp/js.zip /content/drive/MyDrive/testtf/nlp/js "
      ],
      "execution_count": null,
      "outputs": [
        {
          "output_type": "stream",
          "name": "stdout",
          "text": [
            "updating: content/drive/MyDrive/testtf/nlp/js/ (stored 0%)\n",
            "  adding: content/drive/MyDrive/testtf/nlp/js/group1-shard1of246.bin (deflated 7%)\n",
            "  adding: content/drive/MyDrive/testtf/nlp/js/group1-shard2of246.bin (deflated 7%)\n",
            "  adding: content/drive/MyDrive/testtf/nlp/js/group1-shard3of246.bin (deflated 7%)\n",
            "  adding: content/drive/MyDrive/testtf/nlp/js/group1-shard4of246.bin (deflated 7%)\n",
            "  adding: content/drive/MyDrive/testtf/nlp/js/group1-shard5of246.bin (deflated 7%)\n",
            "  adding: content/drive/MyDrive/testtf/nlp/js/group1-shard6of246.bin (deflated 7%)\n",
            "  adding: content/drive/MyDrive/testtf/nlp/js/group1-shard7of246.bin (deflated 7%)\n",
            "  adding: content/drive/MyDrive/testtf/nlp/js/group1-shard8of246.bin (deflated 7%)\n",
            "  adding: content/drive/MyDrive/testtf/nlp/js/group1-shard9of246.bin (deflated 7%)\n",
            "  adding: content/drive/MyDrive/testtf/nlp/js/group1-shard10of246.bin (deflated 7%)\n",
            "  adding: content/drive/MyDrive/testtf/nlp/js/group1-shard11of246.bin (deflated 7%)\n",
            "  adding: content/drive/MyDrive/testtf/nlp/js/group1-shard12of246.bin (deflated 7%)\n",
            "  adding: content/drive/MyDrive/testtf/nlp/js/group1-shard13of246.bin (deflated 7%)\n",
            "  adding: content/drive/MyDrive/testtf/nlp/js/group1-shard14of246.bin (deflated 7%)\n",
            "  adding: content/drive/MyDrive/testtf/nlp/js/group1-shard15of246.bin (deflated 7%)\n",
            "  adding: content/drive/MyDrive/testtf/nlp/js/group1-shard16of246.bin (deflated 7%)\n",
            "  adding: content/drive/MyDrive/testtf/nlp/js/group1-shard17of246.bin (deflated 7%)\n",
            "  adding: content/drive/MyDrive/testtf/nlp/js/group1-shard18of246.bin (deflated 7%)\n",
            "  adding: content/drive/MyDrive/testtf/nlp/js/group1-shard19of246.bin (deflated 7%)\n",
            "  adding: content/drive/MyDrive/testtf/nlp/js/group1-shard20of246.bin (deflated 6%)\n",
            "  adding: content/drive/MyDrive/testtf/nlp/js/group1-shard21of246.bin (deflated 7%)\n",
            "  adding: content/drive/MyDrive/testtf/nlp/js/group1-shard22of246.bin (deflated 7%)\n",
            "  adding: content/drive/MyDrive/testtf/nlp/js/group1-shard23of246.bin (deflated 7%)\n",
            "  adding: content/drive/MyDrive/testtf/nlp/js/group1-shard24of246.bin (deflated 7%)\n",
            "  adding: content/drive/MyDrive/testtf/nlp/js/group1-shard25of246.bin (deflated 7%)\n",
            "  adding: content/drive/MyDrive/testtf/nlp/js/group1-shard26of246.bin (deflated 6%)\n",
            "  adding: content/drive/MyDrive/testtf/nlp/js/group1-shard27of246.bin (deflated 7%)\n",
            "  adding: content/drive/MyDrive/testtf/nlp/js/group1-shard28of246.bin (deflated 6%)\n",
            "  adding: content/drive/MyDrive/testtf/nlp/js/group1-shard29of246.bin (deflated 7%)\n",
            "  adding: content/drive/MyDrive/testtf/nlp/js/group1-shard30of246.bin (deflated 7%)\n",
            "  adding: content/drive/MyDrive/testtf/nlp/js/group1-shard31of246.bin (deflated 7%)\n",
            "  adding: content/drive/MyDrive/testtf/nlp/js/group1-shard32of246.bin (deflated 7%)\n",
            "  adding: content/drive/MyDrive/testtf/nlp/js/group1-shard33of246.bin (deflated 7%)\n",
            "  adding: content/drive/MyDrive/testtf/nlp/js/group1-shard34of246.bin (deflated 6%)\n",
            "  adding: content/drive/MyDrive/testtf/nlp/js/group1-shard35of246.bin (deflated 7%)\n",
            "  adding: content/drive/MyDrive/testtf/nlp/js/group1-shard36of246.bin (deflated 6%)\n",
            "  adding: content/drive/MyDrive/testtf/nlp/js/group1-shard37of246.bin (deflated 7%)\n",
            "  adding: content/drive/MyDrive/testtf/nlp/js/group1-shard38of246.bin (deflated 7%)\n",
            "  adding: content/drive/MyDrive/testtf/nlp/js/group1-shard39of246.bin (deflated 7%)\n",
            "  adding: content/drive/MyDrive/testtf/nlp/js/group1-shard40of246.bin (deflated 7%)\n",
            "  adding: content/drive/MyDrive/testtf/nlp/js/group1-shard41of246.bin (deflated 7%)\n",
            "  adding: content/drive/MyDrive/testtf/nlp/js/group1-shard42of246.bin (deflated 6%)\n",
            "  adding: content/drive/MyDrive/testtf/nlp/js/group1-shard43of246.bin (deflated 7%)\n",
            "  adding: content/drive/MyDrive/testtf/nlp/js/group1-shard44of246.bin (deflated 6%)\n",
            "  adding: content/drive/MyDrive/testtf/nlp/js/group1-shard45of246.bin (deflated 7%)\n",
            "  adding: content/drive/MyDrive/testtf/nlp/js/group1-shard46of246.bin (deflated 7%)\n",
            "  adding: content/drive/MyDrive/testtf/nlp/js/group1-shard47of246.bin (deflated 7%)\n",
            "  adding: content/drive/MyDrive/testtf/nlp/js/group1-shard48of246.bin (deflated 7%)\n",
            "  adding: content/drive/MyDrive/testtf/nlp/js/group1-shard49of246.bin (deflated 7%)\n",
            "  adding: content/drive/MyDrive/testtf/nlp/js/group1-shard50of246.bin (deflated 6%)\n",
            "  adding: content/drive/MyDrive/testtf/nlp/js/group1-shard51of246.bin (deflated 7%)\n",
            "  adding: content/drive/MyDrive/testtf/nlp/js/group1-shard52of246.bin (deflated 6%)\n",
            "  adding: content/drive/MyDrive/testtf/nlp/js/group1-shard53of246.bin (deflated 7%)\n",
            "  adding: content/drive/MyDrive/testtf/nlp/js/group1-shard54of246.bin (deflated 7%)\n",
            "  adding: content/drive/MyDrive/testtf/nlp/js/group1-shard55of246.bin (deflated 7%)\n",
            "  adding: content/drive/MyDrive/testtf/nlp/js/group1-shard56of246.bin (deflated 7%)\n",
            "  adding: content/drive/MyDrive/testtf/nlp/js/group1-shard57of246.bin (deflated 7%)\n",
            "  adding: content/drive/MyDrive/testtf/nlp/js/group1-shard58of246.bin (deflated 6%)\n",
            "  adding: content/drive/MyDrive/testtf/nlp/js/group1-shard59of246.bin (deflated 7%)\n",
            "  adding: content/drive/MyDrive/testtf/nlp/js/group1-shard60of246.bin (deflated 7%)\n",
            "  adding: content/drive/MyDrive/testtf/nlp/js/group1-shard61of246.bin (deflated 7%)\n",
            "  adding: content/drive/MyDrive/testtf/nlp/js/group1-shard62of246.bin (deflated 7%)\n",
            "  adding: content/drive/MyDrive/testtf/nlp/js/group1-shard63of246.bin (deflated 7%)\n",
            "  adding: content/drive/MyDrive/testtf/nlp/js/group1-shard64of246.bin (deflated 7%)\n",
            "  adding: content/drive/MyDrive/testtf/nlp/js/group1-shard65of246.bin (deflated 7%)\n",
            "  adding: content/drive/MyDrive/testtf/nlp/js/group1-shard66of246.bin (deflated 7%)\n",
            "  adding: content/drive/MyDrive/testtf/nlp/js/group1-shard67of246.bin (deflated 7%)\n",
            "  adding: content/drive/MyDrive/testtf/nlp/js/group1-shard68of246.bin (deflated 7%)\n",
            "  adding: content/drive/MyDrive/testtf/nlp/js/group1-shard69of246.bin (deflated 7%)\n",
            "  adding: content/drive/MyDrive/testtf/nlp/js/group1-shard70of246.bin (deflated 7%)\n",
            "  adding: content/drive/MyDrive/testtf/nlp/js/group1-shard71of246.bin (deflated 7%)\n",
            "  adding: content/drive/MyDrive/testtf/nlp/js/group1-shard72of246.bin (deflated 7%)\n",
            "  adding: content/drive/MyDrive/testtf/nlp/js/group1-shard73of246.bin (deflated 7%)\n",
            "  adding: content/drive/MyDrive/testtf/nlp/js/group1-shard74of246.bin (deflated 7%)\n",
            "  adding: content/drive/MyDrive/testtf/nlp/js/group1-shard75of246.bin (deflated 7%)\n",
            "  adding: content/drive/MyDrive/testtf/nlp/js/group1-shard76of246.bin (deflated 7%)\n",
            "  adding: content/drive/MyDrive/testtf/nlp/js/group1-shard77of246.bin (deflated 7%)\n",
            "  adding: content/drive/MyDrive/testtf/nlp/js/group1-shard78of246.bin (deflated 7%)\n",
            "  adding: content/drive/MyDrive/testtf/nlp/js/group1-shard79of246.bin (deflated 7%)\n",
            "  adding: content/drive/MyDrive/testtf/nlp/js/group1-shard80of246.bin (deflated 7%)\n",
            "  adding: content/drive/MyDrive/testtf/nlp/js/group1-shard81of246.bin (deflated 7%)\n",
            "  adding: content/drive/MyDrive/testtf/nlp/js/group1-shard82of246.bin (deflated 7%)\n",
            "  adding: content/drive/MyDrive/testtf/nlp/js/group1-shard83of246.bin (deflated 7%)\n",
            "  adding: content/drive/MyDrive/testtf/nlp/js/group1-shard84of246.bin (deflated 7%)\n",
            "  adding: content/drive/MyDrive/testtf/nlp/js/group1-shard85of246.bin (deflated 6%)\n",
            "  adding: content/drive/MyDrive/testtf/nlp/js/group1-shard86of246.bin (deflated 7%)\n",
            "  adding: content/drive/MyDrive/testtf/nlp/js/group1-shard87of246.bin (deflated 7%)\n",
            "  adding: content/drive/MyDrive/testtf/nlp/js/group1-shard88of246.bin (deflated 7%)\n",
            "  adding: content/drive/MyDrive/testtf/nlp/js/group1-shard89of246.bin (deflated 7%)\n",
            "  adding: content/drive/MyDrive/testtf/nlp/js/group1-shard90of246.bin (deflated 7%)\n",
            "  adding: content/drive/MyDrive/testtf/nlp/js/group1-shard91of246.bin (deflated 6%)\n",
            "  adding: content/drive/MyDrive/testtf/nlp/js/group1-shard92of246.bin (deflated 7%)\n",
            "  adding: content/drive/MyDrive/testtf/nlp/js/group1-shard93of246.bin (deflated 6%)\n",
            "  adding: content/drive/MyDrive/testtf/nlp/js/group1-shard94of246.bin (deflated 7%)\n",
            "  adding: content/drive/MyDrive/testtf/nlp/js/group1-shard95of246.bin (deflated 7%)\n",
            "  adding: content/drive/MyDrive/testtf/nlp/js/group1-shard96of246.bin (deflated 7%)\n",
            "  adding: content/drive/MyDrive/testtf/nlp/js/group1-shard97of246.bin (deflated 7%)\n",
            "  adding: content/drive/MyDrive/testtf/nlp/js/group1-shard98of246.bin (deflated 7%)\n",
            "  adding: content/drive/MyDrive/testtf/nlp/js/group1-shard99of246.bin (deflated 6%)\n",
            "  adding: content/drive/MyDrive/testtf/nlp/js/group1-shard100of246.bin (deflated 7%)\n",
            "  adding: content/drive/MyDrive/testtf/nlp/js/group1-shard101of246.bin (deflated 6%)\n",
            "  adding: content/drive/MyDrive/testtf/nlp/js/group1-shard102of246.bin (deflated 7%)\n",
            "  adding: content/drive/MyDrive/testtf/nlp/js/group1-shard103of246.bin (deflated 7%)\n",
            "  adding: content/drive/MyDrive/testtf/nlp/js/group1-shard104of246.bin (deflated 7%)\n",
            "  adding: content/drive/MyDrive/testtf/nlp/js/group1-shard105of246.bin (deflated 7%)\n",
            "  adding: content/drive/MyDrive/testtf/nlp/js/group1-shard106of246.bin (deflated 7%)\n",
            "  adding: content/drive/MyDrive/testtf/nlp/js/group1-shard107of246.bin (deflated 6%)\n",
            "  adding: content/drive/MyDrive/testtf/nlp/js/group1-shard108of246.bin (deflated 7%)\n",
            "  adding: content/drive/MyDrive/testtf/nlp/js/group1-shard109of246.bin (deflated 6%)\n",
            "  adding: content/drive/MyDrive/testtf/nlp/js/group1-shard110of246.bin (deflated 7%)\n",
            "  adding: content/drive/MyDrive/testtf/nlp/js/group1-shard111of246.bin (deflated 7%)\n",
            "  adding: content/drive/MyDrive/testtf/nlp/js/group1-shard112of246.bin (deflated 7%)\n",
            "  adding: content/drive/MyDrive/testtf/nlp/js/group1-shard113of246.bin (deflated 7%)\n",
            "  adding: content/drive/MyDrive/testtf/nlp/js/group1-shard114of246.bin (deflated 7%)\n",
            "  adding: content/drive/MyDrive/testtf/nlp/js/group1-shard115of246.bin (deflated 6%)\n",
            "  adding: content/drive/MyDrive/testtf/nlp/js/group1-shard116of246.bin (deflated 7%)\n",
            "  adding: content/drive/MyDrive/testtf/nlp/js/group1-shard117of246.bin (deflated 6%)\n",
            "  adding: content/drive/MyDrive/testtf/nlp/js/group1-shard118of246.bin (deflated 7%)\n",
            "  adding: content/drive/MyDrive/testtf/nlp/js/group1-shard119of246.bin (deflated 7%)\n",
            "  adding: content/drive/MyDrive/testtf/nlp/js/group1-shard120of246.bin (deflated 7%)\n",
            "  adding: content/drive/MyDrive/testtf/nlp/js/group1-shard121of246.bin (deflated 7%)\n",
            "  adding: content/drive/MyDrive/testtf/nlp/js/group1-shard122of246.bin (deflated 7%)\n",
            "  adding: content/drive/MyDrive/testtf/nlp/js/group1-shard123of246.bin (deflated 7%)\n",
            "  adding: content/drive/MyDrive/testtf/nlp/js/group1-shard124of246.bin (deflated 7%)\n",
            "  adding: content/drive/MyDrive/testtf/nlp/js/group1-shard125of246.bin (deflated 7%)\n",
            "  adding: content/drive/MyDrive/testtf/nlp/js/group1-shard126of246.bin (deflated 7%)\n",
            "  adding: content/drive/MyDrive/testtf/nlp/js/group1-shard127of246.bin (deflated 7%)\n",
            "  adding: content/drive/MyDrive/testtf/nlp/js/group1-shard128of246.bin (deflated 7%)\n",
            "  adding: content/drive/MyDrive/testtf/nlp/js/group1-shard129of246.bin (deflated 7%)\n",
            "  adding: content/drive/MyDrive/testtf/nlp/js/group1-shard130of246.bin (deflated 7%)\n",
            "  adding: content/drive/MyDrive/testtf/nlp/js/group1-shard131of246.bin (deflated 7%)\n",
            "  adding: content/drive/MyDrive/testtf/nlp/js/group1-shard132of246.bin (deflated 7%)\n",
            "  adding: content/drive/MyDrive/testtf/nlp/js/group1-shard133of246.bin (deflated 7%)\n",
            "  adding: content/drive/MyDrive/testtf/nlp/js/group1-shard134of246.bin (deflated 7%)\n",
            "  adding: content/drive/MyDrive/testtf/nlp/js/group1-shard135of246.bin (deflated 7%)\n",
            "  adding: content/drive/MyDrive/testtf/nlp/js/group1-shard136of246.bin (deflated 7%)\n",
            "  adding: content/drive/MyDrive/testtf/nlp/js/group1-shard137of246.bin (deflated 7%)\n",
            "  adding: content/drive/MyDrive/testtf/nlp/js/group1-shard138of246.bin (deflated 7%)\n",
            "  adding: content/drive/MyDrive/testtf/nlp/js/group1-shard139of246.bin (deflated 7%)\n",
            "  adding: content/drive/MyDrive/testtf/nlp/js/group1-shard140of246.bin (deflated 7%)\n",
            "  adding: content/drive/MyDrive/testtf/nlp/js/group1-shard141of246.bin (deflated 7%)\n",
            "  adding: content/drive/MyDrive/testtf/nlp/js/group1-shard142of246.bin (deflated 6%)\n",
            "  adding: content/drive/MyDrive/testtf/nlp/js/group1-shard143of246.bin (deflated 7%)\n",
            "  adding: content/drive/MyDrive/testtf/nlp/js/group1-shard144of246.bin (deflated 7%)\n",
            "  adding: content/drive/MyDrive/testtf/nlp/js/group1-shard145of246.bin (deflated 7%)\n",
            "  adding: content/drive/MyDrive/testtf/nlp/js/group1-shard146of246.bin (deflated 7%)\n",
            "  adding: content/drive/MyDrive/testtf/nlp/js/group1-shard147of246.bin (deflated 7%)\n",
            "  adding: content/drive/MyDrive/testtf/nlp/js/group1-shard148of246.bin (deflated 7%)\n",
            "  adding: content/drive/MyDrive/testtf/nlp/js/group1-shard149of246.bin (deflated 7%)\n",
            "  adding: content/drive/MyDrive/testtf/nlp/js/group1-shard150of246.bin (deflated 6%)\n",
            "  adding: content/drive/MyDrive/testtf/nlp/js/group1-shard151of246.bin (deflated 7%)\n",
            "  adding: content/drive/MyDrive/testtf/nlp/js/group1-shard152of246.bin (deflated 7%)\n",
            "  adding: content/drive/MyDrive/testtf/nlp/js/group1-shard153of246.bin (deflated 7%)\n",
            "  adding: content/drive/MyDrive/testtf/nlp/js/group1-shard154of246.bin (deflated 7%)\n",
            "  adding: content/drive/MyDrive/testtf/nlp/js/group1-shard155of246.bin (deflated 7%)\n",
            "  adding: content/drive/MyDrive/testtf/nlp/js/group1-shard156of246.bin (deflated 6%)\n",
            "  adding: content/drive/MyDrive/testtf/nlp/js/group1-shard157of246.bin (deflated 7%)\n",
            "  adding: content/drive/MyDrive/testtf/nlp/js/group1-shard158of246.bin (deflated 6%)\n",
            "  adding: content/drive/MyDrive/testtf/nlp/js/group1-shard159of246.bin (deflated 7%)\n",
            "  adding: content/drive/MyDrive/testtf/nlp/js/group1-shard160of246.bin (deflated 7%)\n",
            "  adding: content/drive/MyDrive/testtf/nlp/js/group1-shard161of246.bin (deflated 7%)\n",
            "  adding: content/drive/MyDrive/testtf/nlp/js/group1-shard162of246.bin (deflated 7%)\n",
            "  adding: content/drive/MyDrive/testtf/nlp/js/group1-shard163of246.bin (deflated 7%)\n",
            "  adding: content/drive/MyDrive/testtf/nlp/js/group1-shard164of246.bin (deflated 6%)\n",
            "  adding: content/drive/MyDrive/testtf/nlp/js/group1-shard165of246.bin (deflated 7%)\n",
            "  adding: content/drive/MyDrive/testtf/nlp/js/group1-shard166of246.bin (deflated 6%)\n",
            "  adding: content/drive/MyDrive/testtf/nlp/js/group1-shard167of246.bin (deflated 7%)\n",
            "  adding: content/drive/MyDrive/testtf/nlp/js/group1-shard168of246.bin (deflated 7%)\n",
            "  adding: content/drive/MyDrive/testtf/nlp/js/group1-shard169of246.bin (deflated 7%)\n",
            "  adding: content/drive/MyDrive/testtf/nlp/js/group1-shard170of246.bin (deflated 7%)\n",
            "  adding: content/drive/MyDrive/testtf/nlp/js/group1-shard171of246.bin (deflated 7%)\n",
            "  adding: content/drive/MyDrive/testtf/nlp/js/group1-shard172of246.bin (deflated 6%)\n",
            "  adding: content/drive/MyDrive/testtf/nlp/js/group1-shard173of246.bin (deflated 7%)\n",
            "  adding: content/drive/MyDrive/testtf/nlp/js/group1-shard174of246.bin (deflated 6%)\n",
            "  adding: content/drive/MyDrive/testtf/nlp/js/group1-shard175of246.bin (deflated 7%)\n",
            "  adding: content/drive/MyDrive/testtf/nlp/js/group1-shard176of246.bin (deflated 7%)\n",
            "  adding: content/drive/MyDrive/testtf/nlp/js/group1-shard177of246.bin (deflated 7%)\n",
            "  adding: content/drive/MyDrive/testtf/nlp/js/group1-shard178of246.bin (deflated 7%)\n",
            "  adding: content/drive/MyDrive/testtf/nlp/js/group1-shard179of246.bin (deflated 7%)\n",
            "  adding: content/drive/MyDrive/testtf/nlp/js/group1-shard180of246.bin (deflated 7%)\n",
            "  adding: content/drive/MyDrive/testtf/nlp/js/group1-shard181of246.bin (deflated 7%)\n",
            "  adding: content/drive/MyDrive/testtf/nlp/js/group1-shard182of246.bin (deflated 7%)\n",
            "  adding: content/drive/MyDrive/testtf/nlp/js/group1-shard183of246.bin (deflated 7%)\n",
            "  adding: content/drive/MyDrive/testtf/nlp/js/group1-shard184of246.bin (deflated 7%)\n",
            "  adding: content/drive/MyDrive/testtf/nlp/js/group1-shard185of246.bin (deflated 7%)\n",
            "  adding: content/drive/MyDrive/testtf/nlp/js/group1-shard186of246.bin (deflated 7%)\n",
            "  adding: content/drive/MyDrive/testtf/nlp/js/group1-shard187of246.bin (deflated 7%)\n",
            "  adding: content/drive/MyDrive/testtf/nlp/js/group1-shard188of246.bin (deflated 7%)\n",
            "  adding: content/drive/MyDrive/testtf/nlp/js/group1-shard189of246.bin (deflated 7%)\n",
            "  adding: content/drive/MyDrive/testtf/nlp/js/group1-shard190of246.bin (deflated 7%)\n",
            "  adding: content/drive/MyDrive/testtf/nlp/js/group1-shard191of246.bin (deflated 7%)\n",
            "  adding: content/drive/MyDrive/testtf/nlp/js/group1-shard192of246.bin (deflated 7%)\n",
            "  adding: content/drive/MyDrive/testtf/nlp/js/group1-shard193of246.bin (deflated 7%)\n",
            "  adding: content/drive/MyDrive/testtf/nlp/js/group1-shard194of246.bin (deflated 7%)\n",
            "  adding: content/drive/MyDrive/testtf/nlp/js/group1-shard195of246.bin (deflated 7%)\n",
            "  adding: content/drive/MyDrive/testtf/nlp/js/group1-shard196of246.bin (deflated 7%)\n",
            "  adding: content/drive/MyDrive/testtf/nlp/js/group1-shard197of246.bin (deflated 7%)\n",
            "  adding: content/drive/MyDrive/testtf/nlp/js/group1-shard198of246.bin (deflated 7%)\n",
            "  adding: content/drive/MyDrive/testtf/nlp/js/group1-shard199of246.bin (deflated 7%)\n",
            "  adding: content/drive/MyDrive/testtf/nlp/js/group1-shard200of246.bin (deflated 7%)\n",
            "  adding: content/drive/MyDrive/testtf/nlp/js/group1-shard201of246.bin (deflated 7%)\n",
            "  adding: content/drive/MyDrive/testtf/nlp/js/group1-shard202of246.bin (deflated 7%)\n",
            "  adding: content/drive/MyDrive/testtf/nlp/js/group1-shard203of246.bin (deflated 7%)\n",
            "  adding: content/drive/MyDrive/testtf/nlp/js/group1-shard204of246.bin (deflated 7%)\n",
            "  adding: content/drive/MyDrive/testtf/nlp/js/group1-shard205of246.bin (deflated 7%)\n",
            "  adding: content/drive/MyDrive/testtf/nlp/js/group1-shard206of246.bin (deflated 7%)\n",
            "  adding: content/drive/MyDrive/testtf/nlp/js/group1-shard207of246.bin (deflated 6%)\n",
            "  adding: content/drive/MyDrive/testtf/nlp/js/group1-shard208of246.bin (deflated 7%)\n",
            "  adding: content/drive/MyDrive/testtf/nlp/js/group1-shard209of246.bin (deflated 7%)\n",
            "  adding: content/drive/MyDrive/testtf/nlp/js/group1-shard210of246.bin (deflated 7%)\n",
            "  adding: content/drive/MyDrive/testtf/nlp/js/group1-shard211of246.bin (deflated 7%)\n",
            "  adding: content/drive/MyDrive/testtf/nlp/js/group1-shard212of246.bin (deflated 7%)\n",
            "  adding: content/drive/MyDrive/testtf/nlp/js/group1-shard213of246.bin (deflated 6%)\n",
            "  adding: content/drive/MyDrive/testtf/nlp/js/group1-shard214of246.bin (deflated 7%)\n",
            "  adding: content/drive/MyDrive/testtf/nlp/js/group1-shard215of246.bin (deflated 6%)\n",
            "  adding: content/drive/MyDrive/testtf/nlp/js/group1-shard216of246.bin (deflated 7%)\n",
            "  adding: content/drive/MyDrive/testtf/nlp/js/group1-shard217of246.bin (deflated 7%)\n",
            "  adding: content/drive/MyDrive/testtf/nlp/js/group1-shard218of246.bin (deflated 7%)\n",
            "  adding: content/drive/MyDrive/testtf/nlp/js/group1-shard219of246.bin (deflated 7%)\n",
            "  adding: content/drive/MyDrive/testtf/nlp/js/group1-shard220of246.bin (deflated 7%)\n",
            "  adding: content/drive/MyDrive/testtf/nlp/js/group1-shard221of246.bin (deflated 6%)\n",
            "  adding: content/drive/MyDrive/testtf/nlp/js/group1-shard222of246.bin (deflated 7%)\n",
            "  adding: content/drive/MyDrive/testtf/nlp/js/group1-shard223of246.bin (deflated 6%)\n",
            "  adding: content/drive/MyDrive/testtf/nlp/js/group1-shard224of246.bin (deflated 7%)\n",
            "  adding: content/drive/MyDrive/testtf/nlp/js/group1-shard225of246.bin (deflated 7%)\n",
            "  adding: content/drive/MyDrive/testtf/nlp/js/group1-shard226of246.bin (deflated 7%)\n",
            "  adding: content/drive/MyDrive/testtf/nlp/js/group1-shard227of246.bin (deflated 7%)\n",
            "  adding: content/drive/MyDrive/testtf/nlp/js/group1-shard228of246.bin (deflated 7%)\n",
            "  adding: content/drive/MyDrive/testtf/nlp/js/group1-shard229of246.bin (deflated 6%)\n",
            "  adding: content/drive/MyDrive/testtf/nlp/js/group1-shard230of246.bin (deflated 7%)\n",
            "  adding: content/drive/MyDrive/testtf/nlp/js/group1-shard231of246.bin (deflated 6%)\n",
            "  adding: content/drive/MyDrive/testtf/nlp/js/group1-shard232of246.bin (deflated 7%)\n",
            "  adding: content/drive/MyDrive/testtf/nlp/js/group1-shard233of246.bin (deflated 7%)\n",
            "  adding: content/drive/MyDrive/testtf/nlp/js/group1-shard234of246.bin (deflated 7%)\n",
            "  adding: content/drive/MyDrive/testtf/nlp/js/group1-shard235of246.bin (deflated 7%)\n",
            "  adding: content/drive/MyDrive/testtf/nlp/js/group1-shard236of246.bin (deflated 7%)\n",
            "  adding: content/drive/MyDrive/testtf/nlp/js/group1-shard237of246.bin (deflated 7%)\n",
            "  adding: content/drive/MyDrive/testtf/nlp/js/group1-shard238of246.bin (deflated 7%)\n",
            "  adding: content/drive/MyDrive/testtf/nlp/js/group1-shard239of246.bin (deflated 7%)\n",
            "  adding: content/drive/MyDrive/testtf/nlp/js/group1-shard240of246.bin (deflated 7%)\n",
            "  adding: content/drive/MyDrive/testtf/nlp/js/group1-shard241of246.bin (deflated 7%)\n",
            "  adding: content/drive/MyDrive/testtf/nlp/js/group1-shard242of246.bin (deflated 7%)\n",
            "  adding: content/drive/MyDrive/testtf/nlp/js/group1-shard243of246.bin (deflated 7%)\n",
            "  adding: content/drive/MyDrive/testtf/nlp/js/group1-shard244of246.bin (deflated 7%)\n",
            "  adding: content/drive/MyDrive/testtf/nlp/js/group1-shard245of246.bin (deflated 7%)\n",
            "  adding: content/drive/MyDrive/testtf/nlp/js/group1-shard246of246.bin (deflated 7%)\n",
            "  adding: content/drive/MyDrive/testtf/nlp/js/model.json (deflated 91%)\n"
          ]
        }
      ]
    },
    {
      "cell_type": "code",
      "metadata": {
        "id": "B0Ysfx8gW4q9"
      },
      "source": [
        "final_model.evaluate(test_all_dataset)"
      ],
      "execution_count": null,
      "outputs": []
    },
    {
      "cell_type": "code",
      "metadata": {
        "id": "UTAF4dE_pD6J"
      },
      "source": [
        "import tensorflow as tf \n",
        "final_model = tf.keras.models.load_model(\"/content/drive/MyDrive/test tf/nlp/final_model_200.h5\")\n",
        "final_model.summary()"
      ],
      "execution_count": null,
      "outputs": []
    }
  ]
}